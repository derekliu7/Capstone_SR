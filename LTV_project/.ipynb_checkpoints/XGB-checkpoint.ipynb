{
 "cells": [
  {
   "cell_type": "code",
   "execution_count": 1,
   "metadata": {},
   "outputs": [
    {
     "name": "stderr",
     "output_type": "stream",
     "text": [
      "/home/rstudio/efs/anaconda3/envs/dl/lib/python3.6/site-packages/sklearn/cross_validation.py:41: DeprecationWarning: This module was deprecated in version 0.18 in favor of the model_selection module into which all the refactored classes and functions are moved. Also note that the interface of the new CV iterators are different from that of this module. This module will be removed in 0.20.\n",
      "  \"This module will be removed in 0.20.\", DeprecationWarning)\n"
     ]
    }
   ],
   "source": [
    "import pandas as pd\n",
    "import numpy as np\n",
    "import seaborn as sns\n",
    "import random\n",
    "from collections import Counter\n",
    "from scipy import stats\n",
    "from xgboost import XGBRegressor\n",
    "from sklearn.neural_network import MLPRegressor\n",
    "from sklearn.preprocessing import normalize\n",
    "from sklearn.model_selection import train_test_split, GridSearchCV, StratifiedKFold\n",
    "from sklearn.ensemble import ExtraTreesRegressor, RandomForestRegressor, GradientBoostingRegressor, RandomForestClassifier\n",
    "from sklearn.manifold import TSNE\n",
    "from imblearn.combine import SMOTEENN\n",
    "from sklearn.model_selection import cross_val_score\n",
    "from sklearn import metrics\n",
    "import matplotlib.pyplot as plt\n",
    "%matplotlib inline"
   ]
  },
  {
   "cell_type": "code",
   "execution_count": 2,
   "metadata": {
    "collapsed": true
   },
   "outputs": [],
   "source": [
    "def rmse(targets, predictions):\n",
    "    return np.sqrt(((predictions - targets) ** 2).mean())"
   ]
  },
  {
   "cell_type": "code",
   "execution_count": 4,
   "metadata": {
    "collapsed": true
   },
   "outputs": [],
   "source": [
    "df = pd.read_csv('clean_testing_Candy.csv', index_col=0, low_memory=False)\n",
    "del df['treatment']"
   ]
  },
  {
   "cell_type": "code",
   "execution_count": 5,
   "metadata": {},
   "outputs": [
    {
     "name": "stdout",
     "output_type": "stream",
     "text": [
      "Counter({'non_spender': 392964, 'spender': 11330})\n"
     ]
    },
    {
     "data": {
      "image/png": "[encoded data removed]",
      "text/plain": [
       "<matplotlib.figure.Figure at 0x7f194849a5c0>"
      ]
     },
     "metadata": {},
     "output_type": "display_data"
    }
   ],
   "source": [
    "spender = df.out_ltv > 0\n",
    "booleanDictionary = {True: 'spender', False: 'non_spender'}\n",
    "spender = spender.map(booleanDictionary)\n",
    "print(Counter(spender))\n",
    "sns.countplot(spender);"
   ]
  },
  {
   "cell_type": "code",
   "execution_count": 6,
   "metadata": {},
   "outputs": [
    {
     "data": {
      "text/html": [
       "<div>\n",
       "<style>\n",
       "    .dataframe thead tr:only-child th {\n",
       "        text-align: right;\n",
       "    }\n",
       "\n",
       "    .dataframe thead th {\n",
       "        text-align: left;\n",
       "    }\n",
       "\n",
       "    .dataframe tbody tr th {\n",
       "        vertical-align: top;\n",
       "    }\n",
       "</style>\n",
       "<table border=\"1\" class=\"dataframe\">\n",
       "  <thead>\n",
       "    <tr style=\"text-align: right;\">\n",
       "      <th></th>\n",
       "      <th>t0_geoip_metro_code_others_level</th>\n",
       "      <th>t0_geoip_metro_code_MC_501</th>\n",
       "      <th>t0_geoip_metro_code_MC_504</th>\n",
       "      <th>t0_geoip_metro_code_MC_506</th>\n",
       "      <th>t0_geoip_metro_code_MC_511</th>\n",
       "      <th>t0_geoip_metro_code_MC_524</th>\n",
       "      <th>t0_geoip_metro_code_MC_602</th>\n",
       "      <th>t0_geoip_metro_code_MC_618</th>\n",
       "      <th>t0_geoip_metro_code_MC_623</th>\n",
       "      <th>t0_geoip_metro_code_MC_803</th>\n",
       "      <th>...</th>\n",
       "      <th>median_hh_inc_NA</th>\n",
       "      <th>mean_hh_inc_NA</th>\n",
       "      <th>owner_occupied_hh_NA</th>\n",
       "      <th>pct_native_born_NA</th>\n",
       "      <th>pct_white_NA</th>\n",
       "      <th>pct_men_in_labor_force_NA</th>\n",
       "      <th>pct_women_in_labor_force_NA</th>\n",
       "      <th>pct_25_up_NA</th>\n",
       "      <th>ppl_per_hh_NA</th>\n",
       "      <th>pct_owner_occupied_hh_NA</th>\n",
       "    </tr>\n",
       "  </thead>\n",
       "  <tbody>\n",
       "    <tr>\n",
       "      <th>1</th>\n",
       "      <td>0</td>\n",
       "      <td>0</td>\n",
       "      <td>0</td>\n",
       "      <td>0</td>\n",
       "      <td>0</td>\n",
       "      <td>0</td>\n",
       "      <td>0</td>\n",
       "      <td>0</td>\n",
       "      <td>0</td>\n",
       "      <td>0</td>\n",
       "      <td>...</td>\n",
       "      <td>1</td>\n",
       "      <td>1</td>\n",
       "      <td>1</td>\n",
       "      <td>1</td>\n",
       "      <td>1</td>\n",
       "      <td>1</td>\n",
       "      <td>1</td>\n",
       "      <td>1</td>\n",
       "      <td>1</td>\n",
       "      <td>1</td>\n",
       "    </tr>\n",
       "    <tr>\n",
       "      <th>2</th>\n",
       "      <td>0</td>\n",
       "      <td>0</td>\n",
       "      <td>0</td>\n",
       "      <td>0</td>\n",
       "      <td>0</td>\n",
       "      <td>0</td>\n",
       "      <td>0</td>\n",
       "      <td>1</td>\n",
       "      <td>0</td>\n",
       "      <td>0</td>\n",
       "      <td>...</td>\n",
       "      <td>0</td>\n",
       "      <td>0</td>\n",
       "      <td>0</td>\n",
       "      <td>0</td>\n",
       "      <td>0</td>\n",
       "      <td>0</td>\n",
       "      <td>0</td>\n",
       "      <td>0</td>\n",
       "      <td>0</td>\n",
       "      <td>0</td>\n",
       "    </tr>\n",
       "    <tr>\n",
       "      <th>3</th>\n",
       "      <td>0</td>\n",
       "      <td>0</td>\n",
       "      <td>0</td>\n",
       "      <td>0</td>\n",
       "      <td>0</td>\n",
       "      <td>0</td>\n",
       "      <td>0</td>\n",
       "      <td>0</td>\n",
       "      <td>0</td>\n",
       "      <td>0</td>\n",
       "      <td>...</td>\n",
       "      <td>1</td>\n",
       "      <td>1</td>\n",
       "      <td>1</td>\n",
       "      <td>1</td>\n",
       "      <td>1</td>\n",
       "      <td>1</td>\n",
       "      <td>1</td>\n",
       "      <td>1</td>\n",
       "      <td>1</td>\n",
       "      <td>1</td>\n",
       "    </tr>\n",
       "    <tr>\n",
       "      <th>4</th>\n",
       "      <td>0</td>\n",
       "      <td>0</td>\n",
       "      <td>0</td>\n",
       "      <td>0</td>\n",
       "      <td>0</td>\n",
       "      <td>0</td>\n",
       "      <td>1</td>\n",
       "      <td>0</td>\n",
       "      <td>0</td>\n",
       "      <td>0</td>\n",
       "      <td>...</td>\n",
       "      <td>0</td>\n",
       "      <td>0</td>\n",
       "      <td>0</td>\n",
       "      <td>0</td>\n",
       "      <td>0</td>\n",
       "      <td>0</td>\n",
       "      <td>0</td>\n",
       "      <td>0</td>\n",
       "      <td>0</td>\n",
       "      <td>0</td>\n",
       "    </tr>\n",
       "    <tr>\n",
       "      <th>5</th>\n",
       "      <td>1</td>\n",
       "      <td>0</td>\n",
       "      <td>0</td>\n",
       "      <td>0</td>\n",
       "      <td>0</td>\n",
       "      <td>0</td>\n",
       "      <td>0</td>\n",
       "      <td>0</td>\n",
       "      <td>0</td>\n",
       "      <td>0</td>\n",
       "      <td>...</td>\n",
       "      <td>0</td>\n",
       "      <td>0</td>\n",
       "      <td>0</td>\n",
       "      <td>0</td>\n",
       "      <td>0</td>\n",
       "      <td>0</td>\n",
       "      <td>0</td>\n",
       "      <td>0</td>\n",
       "      <td>0</td>\n",
       "      <td>0</td>\n",
       "    </tr>\n",
       "  </tbody>\n",
       "</table>\n",
       "<p>5 rows × 321 columns</p>\n",
       "</div>"
      ],
      "text/plain": [
       "   t0_geoip_metro_code_others_level  t0_geoip_metro_code_MC_501  \\\n",
       "1                                 0                           0   \n",
       "2                                 0                           0   \n",
       "3                                 0                           0   \n",
       "4                                 0                           0   \n",
       "5                                 1                           0   \n",
       "\n",
       "   t0_geoip_metro_code_MC_504  t0_geoip_metro_code_MC_506  \\\n",
       "1                           0                           0   \n",
       "2                           0                           0   \n",
       "3                           0                           0   \n",
       "4                           0                           0   \n",
       "5                           0                           0   \n",
       "\n",
       "   t0_geoip_metro_code_MC_511  t0_geoip_metro_code_MC_524  \\\n",
       "1                           0                           0   \n",
       "2                           0                           0   \n",
       "3                           0                           0   \n",
       "4                           0                           0   \n",
       "5                           0                           0   \n",
       "\n",
       "   t0_geoip_metro_code_MC_602  t0_geoip_metro_code_MC_618  \\\n",
       "1                           0                           0   \n",
       "2                           0                           1   \n",
       "3                           0                           0   \n",
       "4                           1                           0   \n",
       "5                           0                           0   \n",
       "\n",
       "   t0_geoip_metro_code_MC_623  t0_geoip_metro_code_MC_803  \\\n",
       "1                           0                           0   \n",
       "2                           0                           0   \n",
       "3                           0                           0   \n",
       "4                           0                           0   \n",
       "5                           0                           0   \n",
       "\n",
       "             ...             median_hh_inc_NA  mean_hh_inc_NA  \\\n",
       "1            ...                            1               1   \n",
       "2            ...                            0               0   \n",
       "3            ...                            1               1   \n",
       "4            ...                            0               0   \n",
       "5            ...                            0               0   \n",
       "\n",
       "   owner_occupied_hh_NA  pct_native_born_NA  pct_white_NA  \\\n",
       "1                     1                   1             1   \n",
       "2                     0                   0             0   \n",
       "3                     1                   1             1   \n",
       "4                     0                   0             0   \n",
       "5                     0                   0             0   \n",
       "\n",
       "   pct_men_in_labor_force_NA  pct_women_in_labor_force_NA  pct_25_up_NA  \\\n",
       "1                          1                            1             1   \n",
       "2                          0                            0             0   \n",
       "3                          1                            1             1   \n",
       "4                          0                            0             0   \n",
       "5                          0                            0             0   \n",
       "\n",
       "   ppl_per_hh_NA  pct_owner_occupied_hh_NA  \n",
       "1              1                         1  \n",
       "2              0                         0  \n",
       "3              1                         1  \n",
       "4              0                         0  \n",
       "5              0                         0  \n",
       "\n",
       "[5 rows x 321 columns]"
      ]
     },
     "execution_count": 6,
     "metadata": {},
     "output_type": "execute_result"
    }
   ],
   "source": [
    "df.head(5)"
   ]
  },
  {
   "cell_type": "code",
   "execution_count": 60,
   "metadata": {},
   "outputs": [
    {
     "data": {
      "text/html": [
       "<div>\n",
       "<style>\n",
       "    .dataframe thead tr:only-child th {\n",
       "        text-align: right;\n",
       "    }\n",
       "\n",
       "    .dataframe thead th {\n",
       "        text-align: left;\n",
       "    }\n",
       "\n",
       "    .dataframe tbody tr th {\n",
       "        vertical-align: top;\n",
       "    }\n",
       "</style>\n",
       "<table border=\"1\" class=\"dataframe\">\n",
       "  <thead>\n",
       "    <tr style=\"text-align: right;\">\n",
       "      <th></th>\n",
       "      <th>t0_geoip_metro_code_others_level</th>\n",
       "      <th>t0_geoip_metro_code_NA_missing</th>\n",
       "      <th>time_zone_offset</th>\n",
       "      <th>model_iPad</th>\n",
       "      <th>model_iPhone</th>\n",
       "      <th>model_others_level</th>\n",
       "      <th>product_others_level</th>\n",
       "      <th>product_iPad5_3</th>\n",
       "      <th>product_iPhone7_2</th>\n",
       "      <th>product_iPhone8_1</th>\n",
       "      <th>...</th>\n",
       "      <th>median_hh_inc_NA</th>\n",
       "      <th>mean_hh_inc_NA</th>\n",
       "      <th>owner_occupied_hh_NA</th>\n",
       "      <th>pct_native_born_NA</th>\n",
       "      <th>pct_white_NA</th>\n",
       "      <th>pct_men_in_labor_force_NA</th>\n",
       "      <th>pct_women_in_labor_force_NA</th>\n",
       "      <th>pct_25_up_NA</th>\n",
       "      <th>ppl_per_hh_NA</th>\n",
       "      <th>pct_owner_occupied_hh_NA</th>\n",
       "    </tr>\n",
       "  </thead>\n",
       "  <tbody>\n",
       "    <tr>\n",
       "      <th>count</th>\n",
       "      <td>323232.000000</td>\n",
       "      <td>323232.000000</td>\n",
       "      <td>323232.000000</td>\n",
       "      <td>323232.000000</td>\n",
       "      <td>323232.000000</td>\n",
       "      <td>323232.000000</td>\n",
       "      <td>323232.000000</td>\n",
       "      <td>323232.000000</td>\n",
       "      <td>323232.000000</td>\n",
       "      <td>323232.000000</td>\n",
       "      <td>...</td>\n",
       "      <td>323232.000000</td>\n",
       "      <td>323232.000000</td>\n",
       "      <td>323232.000000</td>\n",
       "      <td>323232.000000</td>\n",
       "      <td>323232.000000</td>\n",
       "      <td>323232.000000</td>\n",
       "      <td>323232.000000</td>\n",
       "      <td>323232.000000</td>\n",
       "      <td>323232.000000</td>\n",
       "      <td>323232.000000</td>\n",
       "    </tr>\n",
       "    <tr>\n",
       "      <th>mean</th>\n",
       "      <td>0.492810</td>\n",
       "      <td>0.507190</td>\n",
       "      <td>-128.972147</td>\n",
       "      <td>0.394633</td>\n",
       "      <td>0.595622</td>\n",
       "      <td>0.009745</td>\n",
       "      <td>0.667672</td>\n",
       "      <td>0.056770</td>\n",
       "      <td>0.100179</td>\n",
       "      <td>0.116517</td>\n",
       "      <td>...</td>\n",
       "      <td>0.636549</td>\n",
       "      <td>0.636549</td>\n",
       "      <td>0.636549</td>\n",
       "      <td>0.636549</td>\n",
       "      <td>0.636549</td>\n",
       "      <td>0.636549</td>\n",
       "      <td>0.636549</td>\n",
       "      <td>0.636549</td>\n",
       "      <td>0.636549</td>\n",
       "      <td>0.636549</td>\n",
       "    </tr>\n",
       "    <tr>\n",
       "      <th>std</th>\n",
       "      <td>0.499949</td>\n",
       "      <td>0.499949</td>\n",
       "      <td>271.128703</td>\n",
       "      <td>0.488772</td>\n",
       "      <td>0.490772</td>\n",
       "      <td>0.098236</td>\n",
       "      <td>0.471049</td>\n",
       "      <td>0.231404</td>\n",
       "      <td>0.300239</td>\n",
       "      <td>0.320844</td>\n",
       "      <td>...</td>\n",
       "      <td>0.480994</td>\n",
       "      <td>0.480994</td>\n",
       "      <td>0.480994</td>\n",
       "      <td>0.480994</td>\n",
       "      <td>0.480994</td>\n",
       "      <td>0.480994</td>\n",
       "      <td>0.480994</td>\n",
       "      <td>0.480994</td>\n",
       "      <td>0.480994</td>\n",
       "      <td>0.480994</td>\n",
       "    </tr>\n",
       "    <tr>\n",
       "      <th>min</th>\n",
       "      <td>0.000000</td>\n",
       "      <td>0.000000</td>\n",
       "      <td>-660.000000</td>\n",
       "      <td>0.000000</td>\n",
       "      <td>0.000000</td>\n",
       "      <td>0.000000</td>\n",
       "      <td>0.000000</td>\n",
       "      <td>0.000000</td>\n",
       "      <td>0.000000</td>\n",
       "      <td>0.000000</td>\n",
       "      <td>...</td>\n",
       "      <td>0.000000</td>\n",
       "      <td>0.000000</td>\n",
       "      <td>0.000000</td>\n",
       "      <td>0.000000</td>\n",
       "      <td>0.000000</td>\n",
       "      <td>0.000000</td>\n",
       "      <td>0.000000</td>\n",
       "      <td>0.000000</td>\n",
       "      <td>0.000000</td>\n",
       "      <td>0.000000</td>\n",
       "    </tr>\n",
       "    <tr>\n",
       "      <th>25%</th>\n",
       "      <td>0.000000</td>\n",
       "      <td>0.000000</td>\n",
       "      <td>-300.000000</td>\n",
       "      <td>0.000000</td>\n",
       "      <td>0.000000</td>\n",
       "      <td>0.000000</td>\n",
       "      <td>0.000000</td>\n",
       "      <td>0.000000</td>\n",
       "      <td>0.000000</td>\n",
       "      <td>0.000000</td>\n",
       "      <td>...</td>\n",
       "      <td>0.000000</td>\n",
       "      <td>0.000000</td>\n",
       "      <td>0.000000</td>\n",
       "      <td>0.000000</td>\n",
       "      <td>0.000000</td>\n",
       "      <td>0.000000</td>\n",
       "      <td>0.000000</td>\n",
       "      <td>0.000000</td>\n",
       "      <td>0.000000</td>\n",
       "      <td>0.000000</td>\n",
       "    </tr>\n",
       "    <tr>\n",
       "      <th>50%</th>\n",
       "      <td>0.000000</td>\n",
       "      <td>1.000000</td>\n",
       "      <td>-240.000000</td>\n",
       "      <td>0.000000</td>\n",
       "      <td>1.000000</td>\n",
       "      <td>0.000000</td>\n",
       "      <td>1.000000</td>\n",
       "      <td>0.000000</td>\n",
       "      <td>0.000000</td>\n",
       "      <td>0.000000</td>\n",
       "      <td>...</td>\n",
       "      <td>1.000000</td>\n",
       "      <td>1.000000</td>\n",
       "      <td>1.000000</td>\n",
       "      <td>1.000000</td>\n",
       "      <td>1.000000</td>\n",
       "      <td>1.000000</td>\n",
       "      <td>1.000000</td>\n",
       "      <td>1.000000</td>\n",
       "      <td>1.000000</td>\n",
       "      <td>1.000000</td>\n",
       "    </tr>\n",
       "    <tr>\n",
       "      <th>75%</th>\n",
       "      <td>1.000000</td>\n",
       "      <td>1.000000</td>\n",
       "      <td>60.000000</td>\n",
       "      <td>1.000000</td>\n",
       "      <td>1.000000</td>\n",
       "      <td>0.000000</td>\n",
       "      <td>1.000000</td>\n",
       "      <td>0.000000</td>\n",
       "      <td>0.000000</td>\n",
       "      <td>0.000000</td>\n",
       "      <td>...</td>\n",
       "      <td>1.000000</td>\n",
       "      <td>1.000000</td>\n",
       "      <td>1.000000</td>\n",
       "      <td>1.000000</td>\n",
       "      <td>1.000000</td>\n",
       "      <td>1.000000</td>\n",
       "      <td>1.000000</td>\n",
       "      <td>1.000000</td>\n",
       "      <td>1.000000</td>\n",
       "      <td>1.000000</td>\n",
       "    </tr>\n",
       "    <tr>\n",
       "      <th>max</th>\n",
       "      <td>1.000000</td>\n",
       "      <td>1.000000</td>\n",
       "      <td>840.000000</td>\n",
       "      <td>1.000000</td>\n",
       "      <td>1.000000</td>\n",
       "      <td>1.000000</td>\n",
       "      <td>1.000000</td>\n",
       "      <td>1.000000</td>\n",
       "      <td>1.000000</td>\n",
       "      <td>1.000000</td>\n",
       "      <td>...</td>\n",
       "      <td>1.000000</td>\n",
       "      <td>1.000000</td>\n",
       "      <td>1.000000</td>\n",
       "      <td>1.000000</td>\n",
       "      <td>1.000000</td>\n",
       "      <td>1.000000</td>\n",
       "      <td>1.000000</td>\n",
       "      <td>1.000000</td>\n",
       "      <td>1.000000</td>\n",
       "      <td>1.000000</td>\n",
       "    </tr>\n",
       "  </tbody>\n",
       "</table>\n",
       "<p>8 rows × 228 columns</p>\n",
       "</div>"
      ],
      "text/plain": [
       "       t0_geoip_metro_code_others_level  t0_geoip_metro_code_NA_missing  \\\n",
       "count                     323232.000000                   323232.000000   \n",
       "mean                           0.492810                        0.507190   \n",
       "std                            0.499949                        0.499949   \n",
       "min                            0.000000                        0.000000   \n",
       "25%                            0.000000                        0.000000   \n",
       "50%                            0.000000                        1.000000   \n",
       "75%                            1.000000                        1.000000   \n",
       "max                            1.000000                        1.000000   \n",
       "\n",
       "       time_zone_offset     model_iPad   model_iPhone  model_others_level  \\\n",
       "count     323232.000000  323232.000000  323232.000000       323232.000000   \n",
       "mean        -128.972147       0.394633       0.595622            0.009745   \n",
       "std          271.128703       0.488772       0.490772            0.098236   \n",
       "min         -660.000000       0.000000       0.000000            0.000000   \n",
       "25%         -300.000000       0.000000       0.000000            0.000000   \n",
       "50%         -240.000000       0.000000       1.000000            0.000000   \n",
       "75%           60.000000       1.000000       1.000000            0.000000   \n",
       "max          840.000000       1.000000       1.000000            1.000000   \n",
       "\n",
       "       product_others_level  product_iPad5_3  product_iPhone7_2  \\\n",
       "count         323232.000000    323232.000000      323232.000000   \n",
       "mean               0.667672         0.056770           0.100179   \n",
       "std                0.471049         0.231404           0.300239   \n",
       "min                0.000000         0.000000           0.000000   \n",
       "25%                0.000000         0.000000           0.000000   \n",
       "50%                1.000000         0.000000           0.000000   \n",
       "75%                1.000000         0.000000           0.000000   \n",
       "max                1.000000         1.000000           1.000000   \n",
       "\n",
       "       product_iPhone8_1            ...             median_hh_inc_NA  \\\n",
       "count      323232.000000            ...                323232.000000   \n",
       "mean            0.116517            ...                     0.636549   \n",
       "std             0.320844            ...                     0.480994   \n",
       "min             0.000000            ...                     0.000000   \n",
       "25%             0.000000            ...                     0.000000   \n",
       "50%             0.000000            ...                     1.000000   \n",
       "75%             0.000000            ...                     1.000000   \n",
       "max             1.000000            ...                     1.000000   \n",
       "\n",
       "       mean_hh_inc_NA  owner_occupied_hh_NA  pct_native_born_NA  \\\n",
       "count   323232.000000         323232.000000       323232.000000   \n",
       "mean         0.636549              0.636549            0.636549   \n",
       "std          0.480994              0.480994            0.480994   \n",
       "min          0.000000              0.000000            0.000000   \n",
       "25%          0.000000              0.000000            0.000000   \n",
       "50%          1.000000              1.000000            1.000000   \n",
       "75%          1.000000              1.000000            1.000000   \n",
       "max          1.000000              1.000000            1.000000   \n",
       "\n",
       "        pct_white_NA  pct_men_in_labor_force_NA  pct_women_in_labor_force_NA  \\\n",
       "count  323232.000000              323232.000000                323232.000000   \n",
       "mean        0.636549                   0.636549                     0.636549   \n",
       "std         0.480994                   0.480994                     0.480994   \n",
       "min         0.000000                   0.000000                     0.000000   \n",
       "25%         0.000000                   0.000000                     0.000000   \n",
       "50%         1.000000                   1.000000                     1.000000   \n",
       "75%         1.000000                   1.000000                     1.000000   \n",
       "max         1.000000                   1.000000                     1.000000   \n",
       "\n",
       "        pct_25_up_NA  ppl_per_hh_NA  pct_owner_occupied_hh_NA  \n",
       "count  323232.000000  323232.000000             323232.000000  \n",
       "mean        0.636549       0.636549                  0.636549  \n",
       "std         0.480994       0.480994                  0.480994  \n",
       "min         0.000000       0.000000                  0.000000  \n",
       "25%         0.000000       0.000000                  0.000000  \n",
       "50%         1.000000       1.000000                  1.000000  \n",
       "75%         1.000000       1.000000                  1.000000  \n",
       "max         1.000000       1.000000                  1.000000  \n",
       "\n",
       "[8 rows x 228 columns]"
      ]
     },
     "execution_count": 60,
     "metadata": {},
     "output_type": "execute_result"
    }
   ],
   "source": [
    "df.describe()"
   ]
  },
  {
   "cell_type": "code",
   "execution_count": 7,
   "metadata": {},
   "outputs": [
    {
     "data": {
      "image/png": "[encoded data removed]",
      "text/plain": [
       "<matplotlib.figure.Figure at 0x7f194172abe0>"
      ]
     },
     "metadata": {},
     "output_type": "display_data"
    }
   ],
   "source": [
    "nonspenders = df[df.out_ltv==0]\n",
    "nonspender_sampleDF = nonspenders.sample(n=200000, random_state=40)\n",
    "spenderDF = df[df.out_ltv>0]\n",
    "new_df = pd.concat([nonspender_sampleDF, spenderDF])\n",
    "new_df['out_ltv'][new_df['out_ltv']>0].hist();"
   ]
  },
  {
   "cell_type": "code",
   "execution_count": 14,
   "metadata": {
    "collapsed": true
   },
   "outputs": [],
   "source": [
    "X = np.array(new_df.drop(['out_ltv'], axis=1))\n",
    "y = new_df['out_ltv']\n",
    "# y = y.values.reshape((y.shape[0],1))\n",
    "\n",
    "seed=7\n",
    "np.random.seed(seed)\n",
    "\n",
    "# split data into training set and testing set\n",
    "X_train, X_test, y_train, y_test = train_test_split(X, y, test_size=0.2, random_state=42)\n",
    "\n",
    "# Normalize the training\n",
    "norm_train, norm = normalize(X_train, axis=0, return_norm=True)"
   ]
  },
  {
   "cell_type": "code",
   "execution_count": 15,
   "metadata": {
    "collapsed": true
   },
   "outputs": [],
   "source": [
    "norm_test = X_test/norm"
   ]
  },
  {
   "cell_type": "code",
   "execution_count": 16,
   "metadata": {},
   "outputs": [
    {
     "data": {
      "text/plain": [
       "(169064, 320)"
      ]
     },
     "execution_count": 16,
     "metadata": {},
     "output_type": "execute_result"
    }
   ],
   "source": [
    "norm_train.shape"
   ]
  },
  {
   "cell_type": "code",
   "execution_count": 17,
   "metadata": {
    "collapsed": true
   },
   "outputs": [],
   "source": [
    "reduced_data_test = np.load('reduced_data_test.npy')"
   ]
  },
  {
   "cell_type": "code",
   "execution_count": 18,
   "metadata": {
    "collapsed": true
   },
   "outputs": [],
   "source": [
    "final_train = np.load('normed_resampled_train.npy')"
   ]
  },
  {
   "cell_type": "code",
   "execution_count": 19,
   "metadata": {
    "collapsed": true
   },
   "outputs": [],
   "source": [
    "res_x = final_train[:, :-1]\n",
    "res_y = final_train[:, -1]\n",
    "res_y = res_y.reshape((res_y.shape[0],1))"
   ]
  },
  {
   "cell_type": "markdown",
   "metadata": {},
   "source": [
    "## Random Forest"
   ]
  },
  {
   "cell_type": "code",
   "execution_count": 28,
   "metadata": {},
   "outputs": [
    {
     "name": "stderr",
     "output_type": "stream",
     "text": [
      "/home/rstudio/efs/anaconda3/envs/dl/lib/python3.6/site-packages/ipykernel_launcher.py:3: DataConversionWarning: A column-vector y was passed when a 1d array was expected. Please change the shape of y to (n_samples,), for example using ravel().\n",
      "  This is separate from the ipykernel package so we can avoid doing imports until\n"
     ]
    },
    {
     "data": {
      "text/plain": [
       "RandomForestRegressor(bootstrap=True, criterion='mse', max_depth=7,\n",
       "           max_features='auto', max_leaf_nodes=None,\n",
       "           min_impurity_decrease=0.0, min_impurity_split=None,\n",
       "           min_samples_leaf=1, min_samples_split=2,\n",
       "           min_weight_fraction_leaf=0.0, n_estimators=30, n_jobs=-1,\n",
       "           oob_score=False, random_state=None, verbose=0, warm_start=False)"
      ]
     },
     "execution_count": 28,
     "metadata": {},
     "output_type": "execute_result"
    }
   ],
   "source": [
    "rf = RandomForestRegressor(n_jobs=-1, n_estimators=30, max_depth=7)\n",
    "\n",
    "rf.fit(res_x, res_y)"
   ]
  },
  {
   "cell_type": "code",
   "execution_count": 30,
   "metadata": {},
   "outputs": [],
   "source": [
    "pred_forest = rf.predict(reduced_data_test)"
   ]
  },
  {
   "cell_type": "code",
   "execution_count": 31,
   "metadata": {},
   "outputs": [
    {
     "data": {
      "text/plain": [
       "8.5838635030561186"
      ]
     },
     "execution_count": 31,
     "metadata": {},
     "output_type": "execute_result"
    }
   ],
   "source": [
    "rmse(y_test,pred_forest)"
   ]
  },
  {
   "cell_type": "code",
   "execution_count": 23,
   "metadata": {
    "collapsed": true
   },
   "outputs": [],
   "source": [
    "bin1_index = y_test >0"
   ]
  },
  {
   "cell_type": "code",
   "execution_count": 24,
   "metadata": {},
   "outputs": [
    {
     "data": {
      "text/plain": [
       "27.095148151688338"
      ]
     },
     "execution_count": 24,
     "metadata": {},
     "output_type": "execute_result"
    }
   ],
   "source": [
    "pred_forest1 = rf.predict(norm_test[bin1_index])\n",
    "rmse(y_test[bin1_index], pred_forest1)"
   ]
  },
  {
   "cell_type": "code",
   "execution_count": 26,
   "metadata": {},
   "outputs": [
    {
     "data": {
      "text/plain": [
       "14.897554894242798"
      ]
     },
     "execution_count": 26,
     "metadata": {},
     "output_type": "execute_result"
    }
   ],
   "source": [
    "metrics.mean_absolute_error(y_test[bin1_index], pred_forest1)"
   ]
  },
  {
   "cell_type": "markdown",
   "metadata": {},
   "source": [
    "## XGboost"
   ]
  },
  {
   "cell_type": "code",
   "execution_count": 34,
   "metadata": {
    "collapsed": true
   },
   "outputs": [],
   "source": [
    "xgb = XGBRegressor(max_depth=5, learning_rate=0.01, n_estimators=300, gamma=0.1, base_score=res_y.mean())"
   ]
  },
  {
   "cell_type": "code",
   "execution_count": 35,
   "metadata": {},
   "outputs": [
    {
     "data": {
      "text/plain": [
       "XGBRegressor(base_score=7.9248936886696821, colsample_bylevel=1,\n",
       "       colsample_bytree=1, gamma=0.1, learning_rate=0.01, max_delta_step=0,\n",
       "       max_depth=5, min_child_weight=1, missing=None, n_estimators=300,\n",
       "       nthread=-1, objective='reg:linear', reg_alpha=0, reg_lambda=1,\n",
       "       scale_pos_weight=1, seed=0, silent=True, subsample=1)"
      ]
     },
     "execution_count": 35,
     "metadata": {},
     "output_type": "execute_result"
    }
   ],
   "source": [
    "xgb.fit(res_x, res_y)"
   ]
  },
  {
   "cell_type": "code",
   "execution_count": 36,
   "metadata": {
    "collapsed": true
   },
   "outputs": [],
   "source": [
    "pred_xgb = xgb.predict(reduced_data_test)"
   ]
  },
  {
   "cell_type": "code",
   "execution_count": 37,
   "metadata": {},
   "outputs": [
    {
     "data": {
      "text/plain": [
       "8.6140184612204145"
      ]
     },
     "execution_count": 37,
     "metadata": {},
     "output_type": "execute_result"
    }
   ],
   "source": [
    "rmse(y_test,pred_xgb)"
   ]
  },
  {
   "cell_type": "code",
   "execution_count": 39,
   "metadata": {},
   "outputs": [],
   "source": [
    "pred_xgb1 = xgb.predict(reduced_data_test[bin1_index])"
   ]
  },
  {
   "cell_type": "code",
   "execution_count": 40,
   "metadata": {},
   "outputs": [
    {
     "data": {
      "text/plain": [
       "24.729037525910115"
      ]
     },
     "execution_count": 40,
     "metadata": {},
     "output_type": "execute_result"
    }
   ],
   "source": [
    "rmse(y_test[bin1_index], pred_xgb1)"
   ]
  },
  {
   "cell_type": "code",
   "execution_count": 41,
   "metadata": {
    "collapsed": true
   },
   "outputs": [],
   "source": [
    "parameters = {\n",
    "        'n_estimators': [100, 300, 500],\n",
    "        'learning_rate': [0.05, 0.1, 0.3],\n",
    "        'max_depth': [5, 9, 12],\n",
    "        'subsample': [0.9, 1.0],\n",
    "        'colsample_bytree': [0.9, 1.0],\n",
    "    }"
   ]
  },
  {
   "cell_type": "code",
   "execution_count": 42,
   "metadata": {
    "collapsed": true
   },
   "outputs": [],
   "source": [
    "grid = GridSearchCV(estimator=xgb, param_grid=parameters, cv=10)"
   ]
  },
  {
   "cell_type": "code",
   "execution_count": null,
   "metadata": {
    "collapsed": true
   },
   "outputs": [],
   "source": [
    "grid.fit(X_train,y_train)"
   ]
  },
  {
   "cell_type": "code",
   "execution_count": null,
   "metadata": {
    "collapsed": true
   },
   "outputs": [],
   "source": []
  },
  {
   "cell_type": "code",
   "execution_count": null,
   "metadata": {
    "collapsed": true
   },
   "outputs": [],
   "source": []
  },
  {
   "cell_type": "code",
   "execution_count": null,
   "metadata": {
    "collapsed": true
   },
   "outputs": [],
   "source": []
  },
  {
   "cell_type": "code",
   "execution_count": null,
   "metadata": {
    "collapsed": true
   },
   "outputs": [],
   "source": []
  },
  {
   "cell_type": "code",
   "execution_count": null,
   "metadata": {
    "collapsed": true
   },
   "outputs": [],
   "source": []
  },
  {
   "cell_type": "markdown",
   "metadata": {
    "collapsed": true
   },
   "source": [
    "## Classifier"
   ]
  },
  {
   "cell_type": "code",
   "execution_count": 108,
   "metadata": {
    "collapsed": true
   },
   "outputs": [],
   "source": [
    "label_train = res_y>0\n",
    "label_test = y_test>0"
   ]
  },
  {
   "cell_type": "code",
   "execution_count": 109,
   "metadata": {},
   "outputs": [
    {
     "name": "stderr",
     "output_type": "stream",
     "text": [
      "/home/rstudio/efs/anaconda3/envs/dl/lib/python3.6/site-packages/ipykernel_launcher.py:2: DataConversionWarning: A column-vector y was passed when a 1d array was expected. Please change the shape of y to (n_samples,), for example using ravel().\n",
      "  \n"
     ]
    },
    {
     "data": {
      "text/plain": [
       "RandomForestClassifier(bootstrap=True, class_weight=None, criterion='gini',\n",
       "            max_depth=7, max_features='auto', max_leaf_nodes=None,\n",
       "            min_impurity_decrease=0.0, min_impurity_split=None,\n",
       "            min_samples_leaf=1, min_samples_split=2,\n",
       "            min_weight_fraction_leaf=0.0, n_estimators=30, n_jobs=-1,\n",
       "            oob_score=False, random_state=None, verbose=0,\n",
       "            warm_start=False)"
      ]
     },
     "execution_count": 109,
     "metadata": {},
     "output_type": "execute_result"
    }
   ],
   "source": [
    "clf = RandomForestClassifier(n_jobs=-1, n_estimators=30, max_depth=7)\n",
    "clf.fit(res_x, label_train)"
   ]
  },
  {
   "cell_type": "code",
   "execution_count": 110,
   "metadata": {},
   "outputs": [
    {
     "data": {
      "text/plain": [
       "(array([ True, False, False, ..., False,  True,  True], dtype=bool),\n",
       " 0.65217599463781295)"
      ]
     },
     "execution_count": 110,
     "metadata": {},
     "output_type": "execute_result"
    }
   ],
   "source": [
    "prediction = clf.predict(reduced_data_test)\n",
    "score = clf.score(reduced_data_test, label_test)\n",
    "prediction, score"
   ]
  },
  {
   "cell_type": "code",
   "execution_count": 111,
   "metadata": {},
   "outputs": [
    {
     "data": {
      "text/plain": [
       "0.56049328665590281"
      ]
     },
     "execution_count": 111,
     "metadata": {},
     "output_type": "execute_result"
    }
   ],
   "source": [
    "metrics.roc_auc_score(label_test, prediction)"
   ]
  },
  {
   "cell_type": "code",
   "execution_count": null,
   "metadata": {
    "collapsed": true
   },
   "outputs": [],
   "source": []
  }
 ],
 "metadata": {
  "kernelspec": {
   "display_name": "Python 3",
   "language": "python",
   "name": "python3"
  },
  "language_info": {
   "codemirror_mode": {
    "name": "ipython",
    "version": 3
   },
   "file_extension": ".py",
   "mimetype": "text/x-python",
   "name": "python",
   "nbconvert_exporter": "python",
   "pygments_lexer": "ipython3",
   "version": "3.6.2"
  }
 },
 "nbformat": 4,
 "nbformat_minor": 2
}
