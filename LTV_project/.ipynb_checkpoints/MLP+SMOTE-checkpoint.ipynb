{
 "cells": [
  {
   "cell_type": "code",
   "execution_count": 1,
   "metadata": {},
   "outputs": [
    {
     "name": "stderr",
     "output_type": "stream",
     "text": [
      "/home/rstudio/efs/anaconda3/envs/dl/lib/python3.6/site-packages/sklearn/cross_validation.py:41: DeprecationWarning: This module was deprecated in version 0.18 in favor of the model_selection module into which all the refactored classes and functions are moved. Also note that the interface of the new CV iterators are different from that of this module. This module will be removed in 0.20.\n",
      "  \"This module will be removed in 0.20.\", DeprecationWarning)\n",
      "Using TensorFlow backend.\n"
     ]
    }
   ],
   "source": [
    "import pandas as pd\n",
    "import numpy as np\n",
    "import seaborn as sns\n",
    "import random\n",
    "from collections import Counter\n",
    "from scipy import stats\n",
    "from xgboost import XGBRegressor\n",
    "from sklearn.neural_network import MLPRegressor\n",
    "from sklearn.preprocessing import normalize\n",
    "from sklearn.model_selection import train_test_split, GridSearchCV, StratifiedKFold\n",
    "from sklearn.ensemble import ExtraTreesRegressor, RandomForestRegressor, GradientBoostingRegressor\n",
    "from sklearn.manifold import TSNE\n",
    "from imblearn.combine import SMOTEENN\n",
    "from sklearn.model_selection import cross_val_score\n",
    "from sklearn import metrics\n",
    "import keras\n",
    "from keras.layers.normalization import BatchNormalization\n",
    "from keras.models import Sequential, Model, load_model\n",
    "from keras.layers import Dense, Dropout, Input, Activation\n",
    "from keras.optimizers import Adam\n",
    "from keras import regularizers\n",
    "from keras.wrappers.scikit_learn import KerasRegressor\n",
    "from keras.callbacks import ModelCheckpoint, ReduceLROnPlateau, EarlyStopping\n",
    "import keras.backend as K\n",
    "import matplotlib.pyplot as plt\n",
    "%matplotlib inline"
   ]
  },
  {
   "cell_type": "code",
   "execution_count": 2,
   "metadata": {
    "collapsed": true
   },
   "outputs": [],
   "source": [
    "def rmse(targets, predictions):\n",
    "    return np.sqrt(((predictions - targets) ** 2).mean())"
   ]
  },
  {
   "cell_type": "code",
   "execution_count": 3,
   "metadata": {
    "collapsed": true
   },
   "outputs": [],
   "source": [
    "def rmse_(y_true, y_pred):\n",
    "    return (K.mean((((y_pred-y_true))**2)))**(1/2)"
   ]
  },
  {
   "cell_type": "markdown",
   "metadata": {},
   "source": [
    "# Load Data"
   ]
  },
  {
   "cell_type": "code",
   "execution_count": 4,
   "metadata": {
    "collapsed": true
   },
   "outputs": [],
   "source": [
    "df = pd.read_csv('clean_testing_Candy.csv', index_col=0, low_memory=False)\n",
    "del df['treatment']"
   ]
  },
  {
   "cell_type": "code",
   "execution_count": 5,
   "metadata": {},
   "outputs": [
    {
     "data": {
      "text/plain": [
       "(404294, 321)"
      ]
     },
     "execution_count": 5,
     "metadata": {},
     "output_type": "execute_result"
    }
   ],
   "source": [
    "df.shape"
   ]
  },
  {
   "cell_type": "code",
   "execution_count": 6,
   "metadata": {},
   "outputs": [
    {
     "data": {
      "text/html": [
       "<div>\n",
       "<style>\n",
       "    .dataframe thead tr:only-child th {\n",
       "        text-align: right;\n",
       "    }\n",
       "\n",
       "    .dataframe thead th {\n",
       "        text-align: left;\n",
       "    }\n",
       "\n",
       "    .dataframe tbody tr th {\n",
       "        vertical-align: top;\n",
       "    }\n",
       "</style>\n",
       "<table border=\"1\" class=\"dataframe\">\n",
       "  <thead>\n",
       "    <tr style=\"text-align: right;\">\n",
       "      <th></th>\n",
       "      <th>t0_geoip_metro_code_others_level</th>\n",
       "      <th>t0_geoip_metro_code_MC_501</th>\n",
       "      <th>t0_geoip_metro_code_MC_504</th>\n",
       "      <th>t0_geoip_metro_code_MC_506</th>\n",
       "      <th>t0_geoip_metro_code_MC_511</th>\n",
       "      <th>t0_geoip_metro_code_MC_524</th>\n",
       "      <th>t0_geoip_metro_code_MC_602</th>\n",
       "      <th>t0_geoip_metro_code_MC_618</th>\n",
       "      <th>t0_geoip_metro_code_MC_623</th>\n",
       "      <th>t0_geoip_metro_code_MC_803</th>\n",
       "      <th>...</th>\n",
       "      <th>median_hh_inc_NA</th>\n",
       "      <th>mean_hh_inc_NA</th>\n",
       "      <th>owner_occupied_hh_NA</th>\n",
       "      <th>pct_native_born_NA</th>\n",
       "      <th>pct_white_NA</th>\n",
       "      <th>pct_men_in_labor_force_NA</th>\n",
       "      <th>pct_women_in_labor_force_NA</th>\n",
       "      <th>pct_25_up_NA</th>\n",
       "      <th>ppl_per_hh_NA</th>\n",
       "      <th>pct_owner_occupied_hh_NA</th>\n",
       "    </tr>\n",
       "  </thead>\n",
       "  <tbody>\n",
       "    <tr>\n",
       "      <th>1</th>\n",
       "      <td>0</td>\n",
       "      <td>0</td>\n",
       "      <td>0</td>\n",
       "      <td>0</td>\n",
       "      <td>0</td>\n",
       "      <td>0</td>\n",
       "      <td>0</td>\n",
       "      <td>0</td>\n",
       "      <td>0</td>\n",
       "      <td>0</td>\n",
       "      <td>...</td>\n",
       "      <td>1</td>\n",
       "      <td>1</td>\n",
       "      <td>1</td>\n",
       "      <td>1</td>\n",
       "      <td>1</td>\n",
       "      <td>1</td>\n",
       "      <td>1</td>\n",
       "      <td>1</td>\n",
       "      <td>1</td>\n",
       "      <td>1</td>\n",
       "    </tr>\n",
       "    <tr>\n",
       "      <th>2</th>\n",
       "      <td>0</td>\n",
       "      <td>0</td>\n",
       "      <td>0</td>\n",
       "      <td>0</td>\n",
       "      <td>0</td>\n",
       "      <td>0</td>\n",
       "      <td>0</td>\n",
       "      <td>1</td>\n",
       "      <td>0</td>\n",
       "      <td>0</td>\n",
       "      <td>...</td>\n",
       "      <td>0</td>\n",
       "      <td>0</td>\n",
       "      <td>0</td>\n",
       "      <td>0</td>\n",
       "      <td>0</td>\n",
       "      <td>0</td>\n",
       "      <td>0</td>\n",
       "      <td>0</td>\n",
       "      <td>0</td>\n",
       "      <td>0</td>\n",
       "    </tr>\n",
       "    <tr>\n",
       "      <th>3</th>\n",
       "      <td>0</td>\n",
       "      <td>0</td>\n",
       "      <td>0</td>\n",
       "      <td>0</td>\n",
       "      <td>0</td>\n",
       "      <td>0</td>\n",
       "      <td>0</td>\n",
       "      <td>0</td>\n",
       "      <td>0</td>\n",
       "      <td>0</td>\n",
       "      <td>...</td>\n",
       "      <td>1</td>\n",
       "      <td>1</td>\n",
       "      <td>1</td>\n",
       "      <td>1</td>\n",
       "      <td>1</td>\n",
       "      <td>1</td>\n",
       "      <td>1</td>\n",
       "      <td>1</td>\n",
       "      <td>1</td>\n",
       "      <td>1</td>\n",
       "    </tr>\n",
       "    <tr>\n",
       "      <th>4</th>\n",
       "      <td>0</td>\n",
       "      <td>0</td>\n",
       "      <td>0</td>\n",
       "      <td>0</td>\n",
       "      <td>0</td>\n",
       "      <td>0</td>\n",
       "      <td>1</td>\n",
       "      <td>0</td>\n",
       "      <td>0</td>\n",
       "      <td>0</td>\n",
       "      <td>...</td>\n",
       "      <td>0</td>\n",
       "      <td>0</td>\n",
       "      <td>0</td>\n",
       "      <td>0</td>\n",
       "      <td>0</td>\n",
       "      <td>0</td>\n",
       "      <td>0</td>\n",
       "      <td>0</td>\n",
       "      <td>0</td>\n",
       "      <td>0</td>\n",
       "    </tr>\n",
       "    <tr>\n",
       "      <th>5</th>\n",
       "      <td>1</td>\n",
       "      <td>0</td>\n",
       "      <td>0</td>\n",
       "      <td>0</td>\n",
       "      <td>0</td>\n",
       "      <td>0</td>\n",
       "      <td>0</td>\n",
       "      <td>0</td>\n",
       "      <td>0</td>\n",
       "      <td>0</td>\n",
       "      <td>...</td>\n",
       "      <td>0</td>\n",
       "      <td>0</td>\n",
       "      <td>0</td>\n",
       "      <td>0</td>\n",
       "      <td>0</td>\n",
       "      <td>0</td>\n",
       "      <td>0</td>\n",
       "      <td>0</td>\n",
       "      <td>0</td>\n",
       "      <td>0</td>\n",
       "    </tr>\n",
       "  </tbody>\n",
       "</table>\n",
       "<p>5 rows × 321 columns</p>\n",
       "</div>"
      ],
      "text/plain": [
       "   t0_geoip_metro_code_others_level  t0_geoip_metro_code_MC_501  \\\n",
       "1                                 0                           0   \n",
       "2                                 0                           0   \n",
       "3                                 0                           0   \n",
       "4                                 0                           0   \n",
       "5                                 1                           0   \n",
       "\n",
       "   t0_geoip_metro_code_MC_504  t0_geoip_metro_code_MC_506  \\\n",
       "1                           0                           0   \n",
       "2                           0                           0   \n",
       "3                           0                           0   \n",
       "4                           0                           0   \n",
       "5                           0                           0   \n",
       "\n",
       "   t0_geoip_metro_code_MC_511  t0_geoip_metro_code_MC_524  \\\n",
       "1                           0                           0   \n",
       "2                           0                           0   \n",
       "3                           0                           0   \n",
       "4                           0                           0   \n",
       "5                           0                           0   \n",
       "\n",
       "   t0_geoip_metro_code_MC_602  t0_geoip_metro_code_MC_618  \\\n",
       "1                           0                           0   \n",
       "2                           0                           1   \n",
       "3                           0                           0   \n",
       "4                           1                           0   \n",
       "5                           0                           0   \n",
       "\n",
       "   t0_geoip_metro_code_MC_623  t0_geoip_metro_code_MC_803  \\\n",
       "1                           0                           0   \n",
       "2                           0                           0   \n",
       "3                           0                           0   \n",
       "4                           0                           0   \n",
       "5                           0                           0   \n",
       "\n",
       "             ...             median_hh_inc_NA  mean_hh_inc_NA  \\\n",
       "1            ...                            1               1   \n",
       "2            ...                            0               0   \n",
       "3            ...                            1               1   \n",
       "4            ...                            0               0   \n",
       "5            ...                            0               0   \n",
       "\n",
       "   owner_occupied_hh_NA  pct_native_born_NA  pct_white_NA  \\\n",
       "1                     1                   1             1   \n",
       "2                     0                   0             0   \n",
       "3                     1                   1             1   \n",
       "4                     0                   0             0   \n",
       "5                     0                   0             0   \n",
       "\n",
       "   pct_men_in_labor_force_NA  pct_women_in_labor_force_NA  pct_25_up_NA  \\\n",
       "1                          1                            1             1   \n",
       "2                          0                            0             0   \n",
       "3                          1                            1             1   \n",
       "4                          0                            0             0   \n",
       "5                          0                            0             0   \n",
       "\n",
       "   ppl_per_hh_NA  pct_owner_occupied_hh_NA  \n",
       "1              1                         1  \n",
       "2              0                         0  \n",
       "3              1                         1  \n",
       "4              0                         0  \n",
       "5              0                         0  \n",
       "\n",
       "[5 rows x 321 columns]"
      ]
     },
     "execution_count": 6,
     "metadata": {},
     "output_type": "execute_result"
    }
   ],
   "source": [
    "df.head()"
   ]
  },
  {
   "cell_type": "code",
   "execution_count": 7,
   "metadata": {},
   "outputs": [
    {
     "data": {
      "text/html": [
       "<div>\n",
       "<style>\n",
       "    .dataframe thead tr:only-child th {\n",
       "        text-align: right;\n",
       "    }\n",
       "\n",
       "    .dataframe thead th {\n",
       "        text-align: left;\n",
       "    }\n",
       "\n",
       "    .dataframe tbody tr th {\n",
       "        vertical-align: top;\n",
       "    }\n",
       "</style>\n",
       "<table border=\"1\" class=\"dataframe\">\n",
       "  <thead>\n",
       "    <tr style=\"text-align: right;\">\n",
       "      <th></th>\n",
       "      <th>t0_geoip_metro_code_others_level</th>\n",
       "      <th>t0_geoip_metro_code_MC_501</th>\n",
       "      <th>t0_geoip_metro_code_MC_504</th>\n",
       "      <th>t0_geoip_metro_code_MC_506</th>\n",
       "      <th>t0_geoip_metro_code_MC_511</th>\n",
       "      <th>t0_geoip_metro_code_MC_524</th>\n",
       "      <th>t0_geoip_metro_code_MC_602</th>\n",
       "      <th>t0_geoip_metro_code_MC_618</th>\n",
       "      <th>t0_geoip_metro_code_MC_623</th>\n",
       "      <th>t0_geoip_metro_code_MC_803</th>\n",
       "      <th>...</th>\n",
       "      <th>median_hh_inc_NA</th>\n",
       "      <th>mean_hh_inc_NA</th>\n",
       "      <th>owner_occupied_hh_NA</th>\n",
       "      <th>pct_native_born_NA</th>\n",
       "      <th>pct_white_NA</th>\n",
       "      <th>pct_men_in_labor_force_NA</th>\n",
       "      <th>pct_women_in_labor_force_NA</th>\n",
       "      <th>pct_25_up_NA</th>\n",
       "      <th>ppl_per_hh_NA</th>\n",
       "      <th>pct_owner_occupied_hh_NA</th>\n",
       "    </tr>\n",
       "  </thead>\n",
       "  <tbody>\n",
       "    <tr>\n",
       "      <th>count</th>\n",
       "      <td>404294.000000</td>\n",
       "      <td>404294.000000</td>\n",
       "      <td>404294.000000</td>\n",
       "      <td>404294.000000</td>\n",
       "      <td>404294.000000</td>\n",
       "      <td>404294.000000</td>\n",
       "      <td>404294.000000</td>\n",
       "      <td>404294.000000</td>\n",
       "      <td>404294.000000</td>\n",
       "      <td>404294.000000</td>\n",
       "      <td>...</td>\n",
       "      <td>404294.000000</td>\n",
       "      <td>404294.000000</td>\n",
       "      <td>404294.000000</td>\n",
       "      <td>404294.000000</td>\n",
       "      <td>404294.000000</td>\n",
       "      <td>404294.000000</td>\n",
       "      <td>404294.000000</td>\n",
       "      <td>404294.000000</td>\n",
       "      <td>404294.000000</td>\n",
       "      <td>404294.000000</td>\n",
       "    </tr>\n",
       "    <tr>\n",
       "      <th>mean</th>\n",
       "      <td>0.322824</td>\n",
       "      <td>0.037129</td>\n",
       "      <td>0.015922</td>\n",
       "      <td>0.010680</td>\n",
       "      <td>0.011435</td>\n",
       "      <td>0.010834</td>\n",
       "      <td>0.014764</td>\n",
       "      <td>0.015899</td>\n",
       "      <td>0.018009</td>\n",
       "      <td>0.024749</td>\n",
       "      <td>...</td>\n",
       "      <td>0.636841</td>\n",
       "      <td>0.636841</td>\n",
       "      <td>0.636841</td>\n",
       "      <td>0.636841</td>\n",
       "      <td>0.636841</td>\n",
       "      <td>0.636841</td>\n",
       "      <td>0.636841</td>\n",
       "      <td>0.636841</td>\n",
       "      <td>0.636841</td>\n",
       "      <td>0.636841</td>\n",
       "    </tr>\n",
       "    <tr>\n",
       "      <th>std</th>\n",
       "      <td>0.467557</td>\n",
       "      <td>0.189078</td>\n",
       "      <td>0.125172</td>\n",
       "      <td>0.102793</td>\n",
       "      <td>0.106320</td>\n",
       "      <td>0.103520</td>\n",
       "      <td>0.120607</td>\n",
       "      <td>0.125086</td>\n",
       "      <td>0.132985</td>\n",
       "      <td>0.155360</td>\n",
       "      <td>...</td>\n",
       "      <td>0.480911</td>\n",
       "      <td>0.480911</td>\n",
       "      <td>0.480911</td>\n",
       "      <td>0.480911</td>\n",
       "      <td>0.480911</td>\n",
       "      <td>0.480911</td>\n",
       "      <td>0.480911</td>\n",
       "      <td>0.480911</td>\n",
       "      <td>0.480911</td>\n",
       "      <td>0.480911</td>\n",
       "    </tr>\n",
       "    <tr>\n",
       "      <th>min</th>\n",
       "      <td>0.000000</td>\n",
       "      <td>0.000000</td>\n",
       "      <td>0.000000</td>\n",
       "      <td>0.000000</td>\n",
       "      <td>0.000000</td>\n",
       "      <td>0.000000</td>\n",
       "      <td>0.000000</td>\n",
       "      <td>0.000000</td>\n",
       "      <td>0.000000</td>\n",
       "      <td>0.000000</td>\n",
       "      <td>...</td>\n",
       "      <td>0.000000</td>\n",
       "      <td>0.000000</td>\n",
       "      <td>0.000000</td>\n",
       "      <td>0.000000</td>\n",
       "      <td>0.000000</td>\n",
       "      <td>0.000000</td>\n",
       "      <td>0.000000</td>\n",
       "      <td>0.000000</td>\n",
       "      <td>0.000000</td>\n",
       "      <td>0.000000</td>\n",
       "    </tr>\n",
       "    <tr>\n",
       "      <th>25%</th>\n",
       "      <td>0.000000</td>\n",
       "      <td>0.000000</td>\n",
       "      <td>0.000000</td>\n",
       "      <td>0.000000</td>\n",
       "      <td>0.000000</td>\n",
       "      <td>0.000000</td>\n",
       "      <td>0.000000</td>\n",
       "      <td>0.000000</td>\n",
       "      <td>0.000000</td>\n",
       "      <td>0.000000</td>\n",
       "      <td>...</td>\n",
       "      <td>0.000000</td>\n",
       "      <td>0.000000</td>\n",
       "      <td>0.000000</td>\n",
       "      <td>0.000000</td>\n",
       "      <td>0.000000</td>\n",
       "      <td>0.000000</td>\n",
       "      <td>0.000000</td>\n",
       "      <td>0.000000</td>\n",
       "      <td>0.000000</td>\n",
       "      <td>0.000000</td>\n",
       "    </tr>\n",
       "    <tr>\n",
       "      <th>50%</th>\n",
       "      <td>0.000000</td>\n",
       "      <td>0.000000</td>\n",
       "      <td>0.000000</td>\n",
       "      <td>0.000000</td>\n",
       "      <td>0.000000</td>\n",
       "      <td>0.000000</td>\n",
       "      <td>0.000000</td>\n",
       "      <td>0.000000</td>\n",
       "      <td>0.000000</td>\n",
       "      <td>0.000000</td>\n",
       "      <td>...</td>\n",
       "      <td>1.000000</td>\n",
       "      <td>1.000000</td>\n",
       "      <td>1.000000</td>\n",
       "      <td>1.000000</td>\n",
       "      <td>1.000000</td>\n",
       "      <td>1.000000</td>\n",
       "      <td>1.000000</td>\n",
       "      <td>1.000000</td>\n",
       "      <td>1.000000</td>\n",
       "      <td>1.000000</td>\n",
       "    </tr>\n",
       "    <tr>\n",
       "      <th>75%</th>\n",
       "      <td>1.000000</td>\n",
       "      <td>0.000000</td>\n",
       "      <td>0.000000</td>\n",
       "      <td>0.000000</td>\n",
       "      <td>0.000000</td>\n",
       "      <td>0.000000</td>\n",
       "      <td>0.000000</td>\n",
       "      <td>0.000000</td>\n",
       "      <td>0.000000</td>\n",
       "      <td>0.000000</td>\n",
       "      <td>...</td>\n",
       "      <td>1.000000</td>\n",
       "      <td>1.000000</td>\n",
       "      <td>1.000000</td>\n",
       "      <td>1.000000</td>\n",
       "      <td>1.000000</td>\n",
       "      <td>1.000000</td>\n",
       "      <td>1.000000</td>\n",
       "      <td>1.000000</td>\n",
       "      <td>1.000000</td>\n",
       "      <td>1.000000</td>\n",
       "    </tr>\n",
       "    <tr>\n",
       "      <th>max</th>\n",
       "      <td>1.000000</td>\n",
       "      <td>1.000000</td>\n",
       "      <td>1.000000</td>\n",
       "      <td>1.000000</td>\n",
       "      <td>1.000000</td>\n",
       "      <td>1.000000</td>\n",
       "      <td>1.000000</td>\n",
       "      <td>1.000000</td>\n",
       "      <td>1.000000</td>\n",
       "      <td>1.000000</td>\n",
       "      <td>...</td>\n",
       "      <td>1.000000</td>\n",
       "      <td>1.000000</td>\n",
       "      <td>1.000000</td>\n",
       "      <td>1.000000</td>\n",
       "      <td>1.000000</td>\n",
       "      <td>1.000000</td>\n",
       "      <td>1.000000</td>\n",
       "      <td>1.000000</td>\n",
       "      <td>1.000000</td>\n",
       "      <td>1.000000</td>\n",
       "    </tr>\n",
       "  </tbody>\n",
       "</table>\n",
       "<p>8 rows × 321 columns</p>\n",
       "</div>"
      ],
      "text/plain": [
       "       t0_geoip_metro_code_others_level  t0_geoip_metro_code_MC_501  \\\n",
       "count                     404294.000000               404294.000000   \n",
       "mean                           0.322824                    0.037129   \n",
       "std                            0.467557                    0.189078   \n",
       "min                            0.000000                    0.000000   \n",
       "25%                            0.000000                    0.000000   \n",
       "50%                            0.000000                    0.000000   \n",
       "75%                            1.000000                    0.000000   \n",
       "max                            1.000000                    1.000000   \n",
       "\n",
       "       t0_geoip_metro_code_MC_504  t0_geoip_metro_code_MC_506  \\\n",
       "count               404294.000000               404294.000000   \n",
       "mean                     0.015922                    0.010680   \n",
       "std                      0.125172                    0.102793   \n",
       "min                      0.000000                    0.000000   \n",
       "25%                      0.000000                    0.000000   \n",
       "50%                      0.000000                    0.000000   \n",
       "75%                      0.000000                    0.000000   \n",
       "max                      1.000000                    1.000000   \n",
       "\n",
       "       t0_geoip_metro_code_MC_511  t0_geoip_metro_code_MC_524  \\\n",
       "count               404294.000000               404294.000000   \n",
       "mean                     0.011435                    0.010834   \n",
       "std                      0.106320                    0.103520   \n",
       "min                      0.000000                    0.000000   \n",
       "25%                      0.000000                    0.000000   \n",
       "50%                      0.000000                    0.000000   \n",
       "75%                      0.000000                    0.000000   \n",
       "max                      1.000000                    1.000000   \n",
       "\n",
       "       t0_geoip_metro_code_MC_602  t0_geoip_metro_code_MC_618  \\\n",
       "count               404294.000000               404294.000000   \n",
       "mean                     0.014764                    0.015899   \n",
       "std                      0.120607                    0.125086   \n",
       "min                      0.000000                    0.000000   \n",
       "25%                      0.000000                    0.000000   \n",
       "50%                      0.000000                    0.000000   \n",
       "75%                      0.000000                    0.000000   \n",
       "max                      1.000000                    1.000000   \n",
       "\n",
       "       t0_geoip_metro_code_MC_623  t0_geoip_metro_code_MC_803  \\\n",
       "count               404294.000000               404294.000000   \n",
       "mean                     0.018009                    0.024749   \n",
       "std                      0.132985                    0.155360   \n",
       "min                      0.000000                    0.000000   \n",
       "25%                      0.000000                    0.000000   \n",
       "50%                      0.000000                    0.000000   \n",
       "75%                      0.000000                    0.000000   \n",
       "max                      1.000000                    1.000000   \n",
       "\n",
       "                 ...             median_hh_inc_NA  mean_hh_inc_NA  \\\n",
       "count            ...                404294.000000   404294.000000   \n",
       "mean             ...                     0.636841        0.636841   \n",
       "std              ...                     0.480911        0.480911   \n",
       "min              ...                     0.000000        0.000000   \n",
       "25%              ...                     0.000000        0.000000   \n",
       "50%              ...                     1.000000        1.000000   \n",
       "75%              ...                     1.000000        1.000000   \n",
       "max              ...                     1.000000        1.000000   \n",
       "\n",
       "       owner_occupied_hh_NA  pct_native_born_NA   pct_white_NA  \\\n",
       "count         404294.000000       404294.000000  404294.000000   \n",
       "mean               0.636841            0.636841       0.636841   \n",
       "std                0.480911            0.480911       0.480911   \n",
       "min                0.000000            0.000000       0.000000   \n",
       "25%                0.000000            0.000000       0.000000   \n",
       "50%                1.000000            1.000000       1.000000   \n",
       "75%                1.000000            1.000000       1.000000   \n",
       "max                1.000000            1.000000       1.000000   \n",
       "\n",
       "       pct_men_in_labor_force_NA  pct_women_in_labor_force_NA   pct_25_up_NA  \\\n",
       "count              404294.000000                404294.000000  404294.000000   \n",
       "mean                    0.636841                     0.636841       0.636841   \n",
       "std                     0.480911                     0.480911       0.480911   \n",
       "min                     0.000000                     0.000000       0.000000   \n",
       "25%                     0.000000                     0.000000       0.000000   \n",
       "50%                     1.000000                     1.000000       1.000000   \n",
       "75%                     1.000000                     1.000000       1.000000   \n",
       "max                     1.000000                     1.000000       1.000000   \n",
       "\n",
       "       ppl_per_hh_NA  pct_owner_occupied_hh_NA  \n",
       "count  404294.000000             404294.000000  \n",
       "mean        0.636841                  0.636841  \n",
       "std         0.480911                  0.480911  \n",
       "min         0.000000                  0.000000  \n",
       "25%         0.000000                  0.000000  \n",
       "50%         1.000000                  1.000000  \n",
       "75%         1.000000                  1.000000  \n",
       "max         1.000000                  1.000000  \n",
       "\n",
       "[8 rows x 321 columns]"
      ]
     },
     "execution_count": 7,
     "metadata": {},
     "output_type": "execute_result"
    }
   ],
   "source": [
    "df.describe()"
   ]
  },
  {
   "cell_type": "code",
   "execution_count": 8,
   "metadata": {},
   "outputs": [
    {
     "name": "stdout",
     "output_type": "stream",
     "text": [
      "Counter({'non_spender': 392964, 'spender': 11330})\n"
     ]
    },
    {
     "data": {
      "image/png": "[encoded data removed]",
      "text/plain": [
       "<matplotlib.figure.Figure at 0x7effa61506a0>"
      ]
     },
     "metadata": {},
     "output_type": "display_data"
    }
   ],
   "source": [
    "spender = df.out_ltv > 0\n",
    "booleanDictionary = {True: 'spender', False: 'non_spender'}\n",
    "# df['is_spender'] = pd.Series(spender)\n",
    "spender = spender.map(booleanDictionary)\n",
    "print(Counter(spender))\n",
    "sns.countplot(spender);"
   ]
  },
  {
   "cell_type": "markdown",
   "metadata": {},
   "source": [
    "### Undersampling the Non-spenders to 200K"
   ]
  },
  {
   "cell_type": "code",
   "execution_count": 9,
   "metadata": {
    "collapsed": true
   },
   "outputs": [],
   "source": [
    "nonspenders = df[df.out_ltv==0]"
   ]
  },
  {
   "cell_type": "code",
   "execution_count": 10,
   "metadata": {
    "collapsed": true
   },
   "outputs": [],
   "source": [
    "nonspender_sampleDF = nonspenders.sample(n=200000, random_state=40)"
   ]
  },
  {
   "cell_type": "code",
   "execution_count": 11,
   "metadata": {
    "collapsed": true
   },
   "outputs": [],
   "source": [
    "spenderDF = df[df.out_ltv>0]"
   ]
  },
  {
   "cell_type": "code",
   "execution_count": 12,
   "metadata": {
    "collapsed": true
   },
   "outputs": [],
   "source": [
    "new_df = pd.concat([nonspender_sampleDF, spenderDF])"
   ]
  },
  {
   "cell_type": "code",
   "execution_count": 13,
   "metadata": {},
   "outputs": [
    {
     "data": {
      "image/png": "[encoded data removed]",
      "text/plain": [
       "<matplotlib.figure.Figure at 0x7effa6174438>"
      ]
     },
     "metadata": {},
     "output_type": "display_data"
    }
   ],
   "source": [
    "new_df['out_ltv'][new_df['out_ltv']>0].hist();"
   ]
  },
  {
   "cell_type": "code",
   "execution_count": 14,
   "metadata": {
    "collapsed": true
   },
   "outputs": [],
   "source": [
    "X = np.array(new_df.drop(['out_ltv'], axis=1))\n",
    "y = new_df['out_ltv']\n",
    "# y = y.values.reshape((y.shape[0],1))\n",
    "\n",
    "seed=7\n",
    "np.random.seed(seed)\n",
    "\n",
    "# split data into training set and testing set\n",
    "X_train, X_test, y_train, y_test = train_test_split(X, y, test_size=0.2, random_state=42)\n",
    "\n",
    "# Normalize the training\n",
    "norm_train, norm = normalize(X_train, axis=0, return_norm=True)"
   ]
  },
  {
   "cell_type": "code",
   "execution_count": 15,
   "metadata": {
    "collapsed": true
   },
   "outputs": [],
   "source": [
    "norm_test = X_test/norm"
   ]
  },
  {
   "cell_type": "code",
   "execution_count": 16,
   "metadata": {},
   "outputs": [
    {
     "data": {
      "text/plain": [
       "(169064, 320)"
      ]
     },
     "execution_count": 16,
     "metadata": {},
     "output_type": "execute_result"
    }
   ],
   "source": [
    "norm_train.shape"
   ]
  },
  {
   "cell_type": "code",
   "execution_count": 19,
   "metadata": {
    "collapsed": true
   },
   "outputs": [],
   "source": [
    "# np.save('norm_train.npy', norm_train)\n",
    "# np.save('norm_test.npy', norm_test)\n",
    "np.save('y_train.npy', y_train)\n",
    "np.save('y_test.npy', y_test)"
   ]
  },
  {
   "cell_type": "code",
   "execution_count": 18,
   "metadata": {
    "collapsed": true
   },
   "outputs": [],
   "source": [
    "norm_train = np.load('norm_train.npy')\n",
    "norm_test = np.load('norm_test.npy')"
   ]
  },
  {
   "cell_type": "markdown",
   "metadata": {},
   "source": [
    "### Undersample even more to balance the dataset for toy model"
   ]
  },
  {
   "cell_type": "code",
   "execution_count": 100,
   "metadata": {
    "collapsed": true
   },
   "outputs": [],
   "source": [
    "# xx = np.concatenate((norm_train,y_train.values.reshape((y_train.shape[0],1))), axis=1)\n",
    "\n",
    "# ind = np.random.choice(len(xx[xx[:,-1]==0]), size=len(xx[xx[:,-1]>0]), replace=False)\n",
    "\n",
    "# small_train = np.concatenate((xx[xx[:,-1]==0][ind], xx[xx[:,-1]>0]))\n",
    "\n",
    "# np.random.shuffle(small_train)\n",
    "\n",
    "# sns.countplot(small_train[:,-1]>0);\n",
    "\n",
    "# small_x, small_y = small_train[:,:-1], small_train[:,-1]"
   ]
  },
  {
   "cell_type": "markdown",
   "metadata": {},
   "source": [
    "### Toy model"
   ]
  },
  {
   "cell_type": "code",
   "execution_count": 157,
   "metadata": {},
   "outputs": [
    {
     "name": "stdout",
     "output_type": "stream",
     "text": [
      "Iteration 1, loss = 20.32225419\n",
      "Iteration 2, loss = 20.20282803\n",
      "Iteration 3, loss = 20.18558119\n",
      "Iteration 4, loss = 20.14827465\n",
      "Iteration 5, loss = 20.14433081\n",
      "Iteration 6, loss = 20.10854873\n",
      "Iteration 7, loss = 20.09314451\n",
      "Iteration 8, loss = 20.08832040\n",
      "Iteration 9, loss = 20.07073992\n",
      "Iteration 10, loss = 20.04712565\n",
      "Iteration 11, loss = 20.03339589\n",
      "Iteration 12, loss = 20.02708992\n",
      "Iteration 13, loss = 19.98950092\n",
      "Iteration 14, loss = 19.99583197\n",
      "Iteration 15, loss = 19.97851074\n",
      "Iteration 16, loss = 19.95997269\n",
      "Iteration 17, loss = 19.93501592\n",
      "Iteration 18, loss = 19.88961985\n",
      "Iteration 19, loss = 19.95117075\n",
      "Iteration 20, loss = 19.94232663\n",
      "Iteration 21, loss = 19.87267980\n",
      "Iteration 22, loss = 19.92673350\n",
      "Iteration 23, loss = 19.85484018\n",
      "Iteration 24, loss = 19.83103904\n",
      "Iteration 25, loss = 19.79932099\n",
      "Iteration 26, loss = 19.81044946\n",
      "Iteration 27, loss = 19.79292841\n",
      "Iteration 28, loss = 19.76969573\n",
      "Iteration 29, loss = 19.75972596\n",
      "Iteration 30, loss = 19.75523203\n",
      "Iteration 31, loss = 19.69790881\n",
      "Iteration 32, loss = 19.73037724\n",
      "Iteration 33, loss = 19.70879182\n",
      "Iteration 34, loss = 19.70812574\n",
      "Training loss did not improve more than tol=0.000100 for two consecutive epochs. Stopping.\n"
     ]
    },
    {
     "data": {
      "text/plain": [
       "MLPRegressor(activation='relu', alpha=0.0001, batch_size=300, beta_1=0.9,\n",
       "       beta_2=0.999, early_stopping=False, epsilon=1e-08,\n",
       "       hidden_layer_sizes=(50, 50, 50, 50), learning_rate='constant',\n",
       "       learning_rate_init=0.01, max_iter=200, momentum=0.9,\n",
       "       nesterovs_momentum=True, power_t=0.5, random_state=42, shuffle=True,\n",
       "       solver='adam', tol=0.0001, validation_fraction=0.2, verbose=True,\n",
       "       warm_start=False)"
      ]
     },
     "execution_count": 157,
     "metadata": {},
     "output_type": "execute_result"
    }
   ],
   "source": [
    "toy = MLPRegressor(hidden_layer_sizes=(50,50,50,50), \n",
    "                   activation='relu', \n",
    "                   batch_size=300, \n",
    "                   learning_rate_init=0.01, \n",
    "                   max_iter=200,\n",
    "                   verbose=True, \n",
    "                   random_state=42,  \n",
    "                   early_stopping=False,\n",
    "                   validation_fraction=0.2)\n",
    "\n",
    "toy.fit(norm_train, y_train)"
   ]
  },
  {
   "cell_type": "code",
   "execution_count": 158,
   "metadata": {
    "collapsed": true
   },
   "outputs": [],
   "source": [
    "index = y_test>0"
   ]
  },
  {
   "cell_type": "code",
   "execution_count": 159,
   "metadata": {
    "collapsed": true
   },
   "outputs": [],
   "source": [
    "preds = toy.predict(norm_test)"
   ]
  },
  {
   "cell_type": "code",
   "execution_count": 160,
   "metadata": {},
   "outputs": [
    {
     "data": {
      "text/plain": [
       "array([ 0.55114279,  1.39469518,  0.79626343, ...,  0.37099931,\n",
       "        0.37099931,  0.37099931])"
      ]
     },
     "execution_count": 160,
     "metadata": {},
     "output_type": "execute_result"
    }
   ],
   "source": [
    "preds"
   ]
  },
  {
   "cell_type": "code",
   "execution_count": 161,
   "metadata": {},
   "outputs": [
    {
     "data": {
      "text/plain": [
       "6.435915723364948"
      ]
     },
     "execution_count": 161,
     "metadata": {},
     "output_type": "execute_result"
    }
   ],
   "source": [
    "score = rmse(y_test, preds)\n",
    "score"
   ]
  },
  {
   "cell_type": "code",
   "execution_count": 162,
   "metadata": {},
   "outputs": [
    {
     "data": {
      "text/plain": [
       "7.3544128828197746"
      ]
     },
     "execution_count": 162,
     "metadata": {},
     "output_type": "execute_result"
    }
   ],
   "source": [
    "score/y_test.mean()"
   ]
  },
  {
   "cell_type": "markdown",
   "metadata": {},
   "source": [
    "## Feature Selection(AutoEncoder)"
   ]
  },
  {
   "cell_type": "code",
   "execution_count": 39,
   "metadata": {},
   "outputs": [
    {
     "name": "stdout",
     "output_type": "stream",
     "text": [
      "Train on 135251 samples, validate on 33813 samples\n",
      "Epoch 1/50\n",
      "135251/135251 [==============================] - 3s - loss: 3.9087e-06 - rmse_: 0.0020 - val_loss: 3.6203e-06 - val_rmse_: 0.0019\n",
      "Epoch 2/50\n",
      "135251/135251 [==============================] - 3s - loss: 3.2192e-06 - rmse_: 0.0018 - val_loss: 3.0687e-06 - val_rmse_: 0.0017\n",
      "Epoch 3/50\n",
      "135251/135251 [==============================] - 3s - loss: 2.8175e-06 - rmse_: 0.0017 - val_loss: 2.7351e-06 - val_rmse_: 0.0016\n",
      "Epoch 4/50\n",
      "135251/135251 [==============================] - 3s - loss: 2.5707e-06 - rmse_: 0.0016 - val_loss: 2.5152e-06 - val_rmse_: 0.0016\n",
      "Epoch 5/50\n",
      "135251/135251 [==============================] - 3s - loss: 2.4256e-06 - rmse_: 0.0016 - val_loss: 2.4140e-06 - val_rmse_: 0.0015\n",
      "Epoch 6/50\n",
      "135251/135251 [==============================] - 3s - loss: 2.3405e-06 - rmse_: 0.0015 - val_loss: 2.3478e-06 - val_rmse_: 0.0015\n",
      "Epoch 7/50\n",
      "135251/135251 [==============================] - 3s - loss: 2.2772e-06 - rmse_: 0.0015 - val_loss: 2.2917e-06 - val_rmse_: 0.0015\n",
      "Epoch 8/50\n",
      "135251/135251 [==============================] - 3s - loss: 2.2205e-06 - rmse_: 0.0015 - val_loss: 2.2520e-06 - val_rmse_: 0.0015\n",
      "Epoch 9/50\n",
      "135251/135251 [==============================] - 3s - loss: 2.2069e-06 - rmse_: 0.0015 - val_loss: 2.2377e-06 - val_rmse_: 0.0015\n",
      "Epoch 10/50\n",
      "135251/135251 [==============================] - 3s - loss: 2.1931e-06 - rmse_: 0.0015 - val_loss: 2.2250e-06 - val_rmse_: 0.0015\n",
      "Epoch 11/50\n",
      "135251/135251 [==============================] - 3s - loss: 2.1804e-06 - rmse_: 0.0015 - val_loss: 2.2116e-06 - val_rmse_: 0.0015\n",
      "Epoch 12/50\n",
      "135251/135251 [==============================] - 3s - loss: 2.1691e-06 - rmse_: 0.0015 - val_loss: 2.2028e-06 - val_rmse_: 0.0015\n",
      "Epoch 13/50\n",
      "135251/135251 [==============================] - 3s - loss: 2.1582e-06 - rmse_: 0.0015 - val_loss: 2.1954e-06 - val_rmse_: 0.0015\n",
      "Epoch 14/50\n",
      "135251/135251 [==============================] - 3s - loss: 2.1562e-06 - rmse_: 0.0015 - val_loss: 2.1937e-06 - val_rmse_: 0.0015\n",
      "Epoch 15/50\n",
      "135251/135251 [==============================] - 3s - loss: 2.1543e-06 - rmse_: 0.0015 - val_loss: 2.1918e-06 - val_rmse_: 0.0015\n",
      "Epoch 16/50\n",
      "135251/135251 [==============================] - 3s - loss: 2.1524e-06 - rmse_: 0.0015 - val_loss: 2.1900e-06 - val_rmse_: 0.0015\n",
      "Epoch 17/50\n",
      "135251/135251 [==============================] - 3s - loss: 2.1507e-06 - rmse_: 0.0015 - val_loss: 2.1883e-06 - val_rmse_: 0.0015\n",
      "Epoch 18/50\n",
      "135251/135251 [==============================] - 3s - loss: 2.1485e-06 - rmse_: 0.0015 - val_loss: 2.1869e-06 - val_rmse_: 0.0015\n",
      "Epoch 19/50\n",
      "135251/135251 [==============================] - 3s - loss: 2.1481e-06 - rmse_: 0.0015 - val_loss: 2.1865e-06 - val_rmse_: 0.0015\n",
      "Epoch 20/50\n",
      "135251/135251 [==============================] - 3s - loss: 2.1478e-06 - rmse_: 0.0015 - val_loss: 2.1861e-06 - val_rmse_: 0.0015\n",
      "Epoch 21/50\n",
      "135251/135251 [==============================] - 3s - loss: 2.1474e-06 - rmse_: 0.0015 - val_loss: 2.1858e-06 - val_rmse_: 0.0015\n",
      "Epoch 22/50\n",
      "135251/135251 [==============================] - 3s - loss: 2.1470e-06 - rmse_: 0.0015 - val_loss: 2.1855e-06 - val_rmse_: 0.0015\n",
      "Epoch 23/50\n",
      "135251/135251 [==============================] - 3s - loss: 2.1466e-06 - rmse_: 0.0015 - val_loss: 2.1852e-06 - val_rmse_: 0.0015\n",
      "Epoch 24/50\n",
      "135251/135251 [==============================] - 3s - loss: 2.1465e-06 - rmse_: 0.0015 - val_loss: 2.1851e-06 - val_rmse_: 0.0015\n",
      "Epoch 25/50\n",
      "135251/135251 [==============================] - 3s - loss: 2.1464e-06 - rmse_: 0.0015 - val_loss: 2.1850e-06 - val_rmse_: 0.0015\n",
      "Epoch 26/50\n",
      "135251/135251 [==============================] - 3s - loss: 2.1464e-06 - rmse_: 0.0015 - val_loss: 2.1849e-06 - val_rmse_: 0.0015\n",
      "Epoch 27/50\n",
      "135251/135251 [==============================] - 3s - loss: 2.1463e-06 - rmse_: 0.0015 - val_loss: 2.1849e-06 - val_rmse_: 0.0015\n",
      "Epoch 28/50\n",
      "135251/135251 [==============================] - 3s - loss: 2.1462e-06 - rmse_: 0.0015 - val_loss: 2.1848e-06 - val_rmse_: 0.0015\n",
      "Epoch 29/50\n",
      "135251/135251 [==============================] - 3s - loss: 2.1462e-06 - rmse_: 0.0015 - val_loss: 2.1848e-06 - val_rmse_: 0.0015\n",
      "Epoch 30/50\n",
      "135251/135251 [==============================] - 3s - loss: 2.1462e-06 - rmse_: 0.0015 - val_loss: 2.1848e-06 - val_rmse_: 0.0015\n",
      "Epoch 31/50\n",
      "135251/135251 [==============================] - 3s - loss: 2.1462e-06 - rmse_: 0.0015 - val_loss: 2.1848e-06 - val_rmse_: 0.0015\n",
      "Epoch 32/50\n",
      "135251/135251 [==============================] - 3s - loss: 2.1461e-06 - rmse_: 0.0015 - val_loss: 2.1848e-06 - val_rmse_: 0.0015\n",
      "Epoch 33/50\n",
      "135251/135251 [==============================] - 3s - loss: 2.1461e-06 - rmse_: 0.0015 - val_loss: 2.1848e-06 - val_rmse_: 0.0015\n",
      "Epoch 34/50\n",
      "135251/135251 [==============================] - 3s - loss: 2.1461e-06 - rmse_: 0.0015 - val_loss: 2.1847e-06 - val_rmse_: 0.0015\n",
      "Epoch 35/50\n",
      "135251/135251 [==============================] - 3s - loss: 2.1461e-06 - rmse_: 0.0015 - val_loss: 2.1847e-06 - val_rmse_: 0.0015\n",
      "Epoch 36/50\n",
      "135251/135251 [==============================] - 3s - loss: 2.1461e-06 - rmse_: 0.0015 - val_loss: 2.1847e-06 - val_rmse_: 0.0015\n",
      "Epoch 37/50\n",
      "135251/135251 [==============================] - 3s - loss: 2.1461e-06 - rmse_: 0.0015 - val_loss: 2.1847e-06 - val_rmse_: 0.0015\n",
      "Epoch 38/50\n",
      "135251/135251 [==============================] - 3s - loss: 2.1461e-06 - rmse_: 0.0015 - val_loss: 2.1847e-06 - val_rmse_: 0.0015\n",
      "Epoch 39/50\n",
      "135251/135251 [==============================] - 3s - loss: 2.1461e-06 - rmse_: 0.0015 - val_loss: 2.1847e-06 - val_rmse_: 0.0015\n",
      "Epoch 40/50\n",
      "135251/135251 [==============================] - 3s - loss: 2.1461e-06 - rmse_: 0.0015 - val_loss: 2.1847e-06 - val_rmse_: 0.0015\n",
      "Epoch 41/50\n",
      "135251/135251 [==============================] - 3s - loss: 2.1461e-06 - rmse_: 0.0015 - val_loss: 2.1847e-06 - val_rmse_: 0.0015\n",
      "Epoch 42/50\n",
      "135251/135251 [==============================] - 3s - loss: 2.1461e-06 - rmse_: 0.0015 - val_loss: 2.1847e-06 - val_rmse_: 0.0015\n",
      "Epoch 43/50\n",
      "135251/135251 [==============================] - 3s - loss: 2.1461e-06 - rmse_: 0.0015 - val_loss: 2.1847e-06 - val_rmse_: 0.0015\n",
      "Epoch 44/50\n",
      "135251/135251 [==============================] - 3s - loss: 2.1461e-06 - rmse_: 0.0015 - val_loss: 2.1847e-06 - val_rmse_: 0.0015\n",
      "Epoch 45/50\n",
      "135251/135251 [==============================] - 3s - loss: 2.1461e-06 - rmse_: 0.0015 - val_loss: 2.1847e-06 - val_rmse_: 0.0015\n",
      "Epoch 46/50\n",
      "135251/135251 [==============================] - 3s - loss: 2.1461e-06 - rmse_: 0.0015 - val_loss: 2.1847e-06 - val_rmse_: 0.0015\n",
      "Epoch 47/50\n",
      "135251/135251 [==============================] - 3s - loss: 2.1461e-06 - rmse_: 0.0015 - val_loss: 2.1847e-06 - val_rmse_: 0.0015\n",
      "Epoch 48/50\n",
      "135251/135251 [==============================] - 3s - loss: 2.1461e-06 - rmse_: 0.0015 - val_loss: 2.1847e-06 - val_rmse_: 0.0015\n",
      "Epoch 49/50\n",
      "135251/135251 [==============================] - 3s - loss: 2.1461e-06 - rmse_: 0.0015 - val_loss: 2.1847e-06 - val_rmse_: 0.0015\n",
      "Epoch 50/50\n",
      "135251/135251 [==============================] - 3s - loss: 2.1461e-06 - rmse_: 0.0015 - val_loss: 2.1847e-06 - val_rmse_: 0.0015\n"
     ]
    },
    {
     "data": {
      "text/plain": [
       "<keras.callbacks.History at 0x7fcdac7b4978>"
      ]
     },
     "execution_count": 39,
     "metadata": {},
     "output_type": "execute_result"
    }
   ],
   "source": [
    "input_data = Input(shape=(norm_train.shape[1],))\n",
    "encode = Dense(128, activation='relu')(input_data)\n",
    "encode2 = Dense(50, activation='relu')(encode)\n",
    "decode = Dense(norm_train.shape[1])(encode2)\n",
    "\n",
    "decode_model = Model(input_data, decode)\n",
    "\n",
    "encode_model = Model(input_data, encode2)\n",
    "\n",
    "loss='mean_squared_error'\n",
    "optimizer=Adam(lr=0.001)\n",
    "metric=[rmse_]\n",
    "\n",
    "decode_model.compile(loss=loss, \n",
    "              optimizer=optimizer, \n",
    "              metrics=metric)\n",
    "\n",
    "reduce_lr = ReduceLROnPlateau(monitor='val_loss', \n",
    "                  factor=0.2, \n",
    "                  patience=5,   \n",
    "                  epsilon=0.0001,  \n",
    "                  min_lr=0)\n",
    "modelchecker = ModelCheckpoint('autoencoder.h5', save_best_only=True)\n",
    "\n",
    "earlystopper = EarlyStopping(patience=12, mode='min', verbose=1)\n",
    "\n",
    "decode_model.fit(norm_train, \n",
    "              norm_train,\n",
    "              batch_size=300, \n",
    "              epochs=50, \n",
    "              validation_split=0.2, \n",
    "              verbose=1, \n",
    "              callbacks=[reduce_lr, earlystopper, modelchecker])"
   ]
  },
  {
   "cell_type": "code",
   "execution_count": 40,
   "metadata": {},
   "outputs": [
    {
     "name": "stdout",
     "output_type": "stream",
     "text": [
      "42080/42266 [============================>.] - ETA: 0s"
     ]
    },
    {
     "data": {
      "text/plain": [
       "[2.1289831230870679e-06, 0.0014535579821594179]"
      ]
     },
     "execution_count": 40,
     "metadata": {},
     "output_type": "execute_result"
    }
   ],
   "source": [
    "reduced_data_train = encode_model.predict(norm_train)\n",
    "\n",
    "reduced_data_train.shape\n",
    "\n",
    "reduced_data_test = encode_model.predict(norm_test)\n",
    "\n",
    "decode_model.evaluate(norm_test, norm_test)"
   ]
  },
  {
   "cell_type": "code",
   "execution_count": 41,
   "metadata": {
    "collapsed": true
   },
   "outputs": [],
   "source": [
    "# np.save('reduced_data_train.npy', reduced_data_train)\n",
    "# np.save('reduced_data_test.npy', reduced_data_test)"
   ]
  },
  {
   "cell_type": "code",
   "execution_count": 101,
   "metadata": {
    "collapsed": true
   },
   "outputs": [],
   "source": [
    "reduced_data_train = np.load('reduced_data_train.npy')\n",
    "reduced_data_test = np.load('reduced_data_test.npy')"
   ]
  },
  {
   "cell_type": "markdown",
   "metadata": {},
   "source": [
    "# SMOTE Combination of Oversampling and Undersampling "
   ]
  },
  {
   "cell_type": "code",
   "execution_count": 43,
   "metadata": {},
   "outputs": [
    {
     "name": "stdout",
     "output_type": "stream",
     "text": [
      "Counter({0.0: 26636, 1.0: 1542})\n",
      "Counter({0.0: 26655, 1.0: 1523})\n",
      "Counter({0.0: 26697, 1.0: 1480})\n",
      "Counter({0.0: 26651, 1.0: 1526})\n",
      "Counter({0.0: 26690, 1.0: 1487})\n",
      "Counter({0.0: 26685, 1.0: 1492})\n"
     ]
    }
   ],
   "source": [
    "# Create new label\n",
    "label = y_train >0\n",
    "\n",
    "side = np.hstack((reduced_data_train, y_train.values.reshape((y_train.shape[0],1))))\n",
    "train = np.hstack((side, label.values.reshape((label.shape[0],1))))\n",
    "\n",
    "# split to 6 avoid memory error\n",
    "split_list = np.array_split(train, 6)\n",
    "\n",
    "for array in split_list:\n",
    "    print(Counter(array[:,-1]))"
   ]
  },
  {
   "cell_type": "code",
   "execution_count": 44,
   "metadata": {
    "collapsed": true
   },
   "outputs": [],
   "source": [
    "def resample(X, y):\n",
    "    sm = SMOTEENN()\n",
    "    X_resampled, y_resampled = sm.fit_sample(X, y)\n",
    "    return X_resampled, y_resampled\n",
    "\n",
    "def resample_the_list(list_array):\n",
    "    list_X_resampled = []\n",
    "    list_y_resampled = []\n",
    "    for array in list_array:\n",
    "        X_resampled, y_resampled, = resample(array[:,:-1], array[:, -1].astype(np.bool))\n",
    "        list_X_resampled.append(X_resampled)\n",
    "        list_y_resampled.append(y_resampled)\n",
    "    return list_X_resampled, list_y_resampled\n",
    "\n",
    "list_X_resampled, list_y_resampled = resample_the_list(split_list)"
   ]
  },
  {
   "cell_type": "code",
   "execution_count": 45,
   "metadata": {
    "collapsed": true,
    "scrolled": false
   },
   "outputs": [],
   "source": [
    "final_train = np.concatenate(list_X_resampled, axis=0)"
   ]
  },
  {
   "cell_type": "code",
   "execution_count": 46,
   "metadata": {
    "collapsed": true
   },
   "outputs": [],
   "source": [
    "# np.save('normed_resampled_train.npy', final_train)"
   ]
  },
  {
   "cell_type": "code",
   "execution_count": 102,
   "metadata": {
    "collapsed": true
   },
   "outputs": [],
   "source": [
    "final_train = np.load('normed_resampled_train.npy')"
   ]
  },
  {
   "cell_type": "code",
   "execution_count": 103,
   "metadata": {
    "collapsed": true
   },
   "outputs": [],
   "source": [
    "res_x = final_train[:, :-1]\n",
    "res_y = final_train[:, -1]\n",
    "res_y = res_y.reshape((res_y.shape[0],1))"
   ]
  },
  {
   "cell_type": "code",
   "execution_count": 50,
   "metadata": {
    "collapsed": true
   },
   "outputs": [],
   "source": [
    "# index = res_y>0\n",
    "# res_x = res_x[index]\n",
    "# res_y = res_y[index]"
   ]
  },
  {
   "cell_type": "code",
   "execution_count": 51,
   "metadata": {
    "collapsed": true
   },
   "outputs": [],
   "source": [
    "# res_x=res_x[index.reshape((index.shape[0],))]"
   ]
  },
  {
   "cell_type": "code",
   "execution_count": 52,
   "metadata": {
    "collapsed": true
   },
   "outputs": [],
   "source": [
    "# res_y = res_y[index]"
   ]
  },
  {
   "cell_type": "code",
   "execution_count": 146,
   "metadata": {
    "collapsed": true
   },
   "outputs": [],
   "source": [
    "l_y = res_y\n",
    "l_y[l_y==0]=0.1\n",
    "log_y = np.log10(l_y)"
   ]
  },
  {
   "cell_type": "code",
   "execution_count": 147,
   "metadata": {},
   "outputs": [
    {
     "data": {
      "image/png": "[encoded data removed]",
      "text/plain": [
       "<matplotlib.figure.Figure at 0x7f9f41c02400>"
      ]
     },
     "metadata": {},
     "output_type": "display_data"
    }
   ],
   "source": [
    "plt.hist(log_y)\n",
    "plt.show();"
   ]
  },
  {
   "cell_type": "code",
   "execution_count": 148,
   "metadata": {
    "collapsed": true
   },
   "outputs": [],
   "source": [
    "l_ytest = y_test\n",
    "l_ytest[l_ytest==0]=0.1\n",
    "log_ytest = np.log10(l_ytest)"
   ]
  },
  {
   "cell_type": "code",
   "execution_count": 149,
   "metadata": {},
   "outputs": [
    {
     "data": {
      "image/png": "[encoded data removed]",
      "text/plain": [
       "<matplotlib.figure.Figure at 0x7f9f3f75b128>"
      ]
     },
     "metadata": {},
     "output_type": "display_data"
    }
   ],
   "source": [
    "plt.hist(log_ytest)\n",
    "plt.show();"
   ]
  },
  {
   "cell_type": "markdown",
   "metadata": {},
   "source": [
    "# MLP - Regression with normalization"
   ]
  },
  {
   "cell_type": "code",
   "execution_count": 142,
   "metadata": {
    "collapsed": true
   },
   "outputs": [],
   "source": [
    "def create_model(learn_rate=0.001, decay=0.01 ,init='normal', drop_out=0.2, loss='mse', units=32):\n",
    "    model = Sequential()\n",
    "    model.add(Dense(units=units, kernel_initializer=init, input_shape=(res_x.shape[1],)))\n",
    "    model.add(Activation(activation='relu'))\n",
    "    model.add(Dropout(drop_out))\n",
    "    model.add(Dense(units=units, kernel_initializer=init))\n",
    "    model.add(Activation(activation='relu'))\n",
    "    model.add(Dense(1, kernel_initializer='normal'))\n",
    "    model.compile(loss=loss, \n",
    "              optimizer=Adam(lr=learn_rate, decay=decay), \n",
    "              metrics=[keras.metrics.mse])\n",
    "    return model\n",
    "\n",
    "model = create_model()"
   ]
  },
  {
   "cell_type": "code",
   "execution_count": 143,
   "metadata": {},
   "outputs": [
    {
     "name": "stdout",
     "output_type": "stream",
     "text": [
      "_________________________________________________________________\n",
      "Layer (type)                 Output Shape              Param #   \n",
      "=================================================================\n",
      "dense_31 (Dense)             (None, 32)                1632      \n",
      "_________________________________________________________________\n",
      "activation_21 (Activation)   (None, 32)                0         \n",
      "_________________________________________________________________\n",
      "dropout_13 (Dropout)         (None, 32)                0         \n",
      "_________________________________________________________________\n",
      "dense_32 (Dense)             (None, 32)                1056      \n",
      "_________________________________________________________________\n",
      "activation_22 (Activation)   (None, 32)                0         \n",
      "_________________________________________________________________\n",
      "dense_33 (Dense)             (None, 1)                 33        \n",
      "=================================================================\n",
      "Total params: 2,721\n",
      "Trainable params: 2,721\n",
      "Non-trainable params: 0\n",
      "_________________________________________________________________\n"
     ]
    }
   ],
   "source": [
    "model.summary()"
   ]
  },
  {
   "cell_type": "code",
   "execution_count": 144,
   "metadata": {
    "collapsed": true
   },
   "outputs": [],
   "source": [
    "reduce_lr = ReduceLROnPlateau(monitor='val_loss', \n",
    "                  factor=0.2, \n",
    "                  patience=5,   \n",
    "                  epsilon=0.0001,  \n",
    "                  min_lr=0)\n",
    "modelchecker = ModelCheckpoint('mlp_model.h5', save_best_only=True)\n",
    "\n",
    "earlystopper = EarlyStopping(patience=12, mode='min')"
   ]
  },
  {
   "cell_type": "code",
   "execution_count": 153,
   "metadata": {},
   "outputs": [
    {
     "name": "stdout",
     "output_type": "stream",
     "text": [
      "Train on 256022 samples, validate on 64006 samples\n",
      "Epoch 1/300\n",
      "256022/256022 [==============================] - 2s - loss: 1.0019 - mean_squared_error: 1.0019 - val_loss: 1.0684 - val_mean_squared_error: 1.0684\n",
      "Epoch 2/300\n",
      "256022/256022 [==============================] - 2s - loss: 0.9938 - mean_squared_error: 0.9938 - val_loss: 1.0560 - val_mean_squared_error: 1.0560\n",
      "Epoch 3/300\n",
      "256022/256022 [==============================] - 2s - loss: 0.9927 - mean_squared_error: 0.9927 - val_loss: 1.0517 - val_mean_squared_error: 1.0517\n",
      "Epoch 4/300\n",
      "256022/256022 [==============================] - 2s - loss: 0.9918 - mean_squared_error: 0.9918 - val_loss: 1.0490 - val_mean_squared_error: 1.0490\n",
      "Epoch 5/300\n",
      "256022/256022 [==============================] - 2s - loss: 0.9909 - mean_squared_error: 0.9909 - val_loss: 1.0476 - val_mean_squared_error: 1.0476\n",
      "Epoch 6/300\n",
      "256022/256022 [==============================] - 2s - loss: 0.9901 - mean_squared_error: 0.9901 - val_loss: 1.0460 - val_mean_squared_error: 1.0460\n",
      "Epoch 7/300\n",
      "256022/256022 [==============================] - 2s - loss: 0.9890 - mean_squared_error: 0.9890 - val_loss: 1.0451 - val_mean_squared_error: 1.0451\n",
      "Epoch 8/300\n",
      "256022/256022 [==============================] - 2s - loss: 0.9879 - mean_squared_error: 0.9879 - val_loss: 1.0442 - val_mean_squared_error: 1.0442\n",
      "Epoch 9/300\n",
      "256022/256022 [==============================] - 2s - loss: 0.9867 - mean_squared_error: 0.9867 - val_loss: 1.0422 - val_mean_squared_error: 1.0422\n",
      "Epoch 10/300\n",
      "256022/256022 [==============================] - 2s - loss: 0.9856 - mean_squared_error: 0.9856 - val_loss: 1.0413 - val_mean_squared_error: 1.0413\n",
      "Epoch 11/300\n",
      "256022/256022 [==============================] - 2s - loss: 0.9845 - mean_squared_error: 0.9845 - val_loss: 1.0401 - val_mean_squared_error: 1.0401\n",
      "Epoch 12/300\n",
      "256022/256022 [==============================] - 2s - loss: 0.9833 - mean_squared_error: 0.9833 - val_loss: 1.0387 - val_mean_squared_error: 1.0387\n",
      "Epoch 13/300\n",
      "256022/256022 [==============================] - 2s - loss: 0.9822 - mean_squared_error: 0.9822 - val_loss: 1.0371 - val_mean_squared_error: 1.0371\n",
      "Epoch 14/300\n",
      "256022/256022 [==============================] - 2s - loss: 0.9813 - mean_squared_error: 0.9813 - val_loss: 1.0357 - val_mean_squared_error: 1.0357\n",
      "Epoch 15/300\n",
      "256022/256022 [==============================] - 2s - loss: 0.9803 - mean_squared_error: 0.9803 - val_loss: 1.0344 - val_mean_squared_error: 1.0344\n",
      "Epoch 16/300\n",
      "256022/256022 [==============================] - 2s - loss: 0.9793 - mean_squared_error: 0.9793 - val_loss: 1.0334 - val_mean_squared_error: 1.0334\n",
      "Epoch 17/300\n",
      "256022/256022 [==============================] - 2s - loss: 0.9782 - mean_squared_error: 0.9782 - val_loss: 1.0325 - val_mean_squared_error: 1.0325\n",
      "Epoch 18/300\n",
      "256022/256022 [==============================] - 2s - loss: 0.9776 - mean_squared_error: 0.9776 - val_loss: 1.0314 - val_mean_squared_error: 1.0314\n",
      "Epoch 19/300\n",
      "256022/256022 [==============================] - 2s - loss: 0.9767 - mean_squared_error: 0.9767 - val_loss: 1.0304 - val_mean_squared_error: 1.0304\n",
      "Epoch 20/300\n",
      "256022/256022 [==============================] - 2s - loss: 0.9758 - mean_squared_error: 0.9758 - val_loss: 1.0296 - val_mean_squared_error: 1.0296\n",
      "Epoch 21/300\n",
      "256022/256022 [==============================] - 2s - loss: 0.9752 - mean_squared_error: 0.9752 - val_loss: 1.0289 - val_mean_squared_error: 1.0289\n",
      "Epoch 22/300\n",
      "256022/256022 [==============================] - 2s - loss: 0.9743 - mean_squared_error: 0.9743 - val_loss: 1.0284 - val_mean_squared_error: 1.0284\n",
      "Epoch 23/300\n",
      "256022/256022 [==============================] - 2s - loss: 0.9738 - mean_squared_error: 0.9738 - val_loss: 1.0277 - val_mean_squared_error: 1.0277\n",
      "Epoch 24/300\n",
      "256022/256022 [==============================] - 2s - loss: 0.9731 - mean_squared_error: 0.9731 - val_loss: 1.0264 - val_mean_squared_error: 1.0264\n",
      "Epoch 25/300\n",
      "256022/256022 [==============================] - 2s - loss: 0.9724 - mean_squared_error: 0.9724 - val_loss: 1.0259 - val_mean_squared_error: 1.0259\n",
      "Epoch 26/300\n",
      "256022/256022 [==============================] - 2s - loss: 0.9719 - mean_squared_error: 0.9719 - val_loss: 1.0252 - val_mean_squared_error: 1.0252\n",
      "Epoch 27/300\n",
      "256022/256022 [==============================] - 2s - loss: 0.9714 - mean_squared_error: 0.9714 - val_loss: 1.0238 - val_mean_squared_error: 1.0238\n",
      "Epoch 28/300\n",
      "256022/256022 [==============================] - 2s - loss: 0.9708 - mean_squared_error: 0.9708 - val_loss: 1.0233 - val_mean_squared_error: 1.0233\n",
      "Epoch 29/300\n",
      "256022/256022 [==============================] - 2s - loss: 0.9703 - mean_squared_error: 0.9703 - val_loss: 1.0226 - val_mean_squared_error: 1.0226\n",
      "Epoch 30/300\n",
      "256022/256022 [==============================] - 2s - loss: 0.9699 - mean_squared_error: 0.9699 - val_loss: 1.0219 - val_mean_squared_error: 1.0219\n",
      "Epoch 31/300\n",
      "256022/256022 [==============================] - 2s - loss: 0.9694 - mean_squared_error: 0.9694 - val_loss: 1.0219 - val_mean_squared_error: 1.0219\n",
      "Epoch 32/300\n",
      "256022/256022 [==============================] - 2s - loss: 0.9690 - mean_squared_error: 0.9690 - val_loss: 1.0214 - val_mean_squared_error: 1.0214\n",
      "Epoch 33/300\n",
      "256022/256022 [==============================] - 2s - loss: 0.9686 - mean_squared_error: 0.9686 - val_loss: 1.0212 - val_mean_squared_error: 1.0212\n",
      "Epoch 34/300\n",
      "256022/256022 [==============================] - 2s - loss: 0.9681 - mean_squared_error: 0.9681 - val_loss: 1.0206 - val_mean_squared_error: 1.0206\n",
      "Epoch 35/300\n",
      "256022/256022 [==============================] - 2s - loss: 0.9680 - mean_squared_error: 0.9680 - val_loss: 1.0206 - val_mean_squared_error: 1.0206\n",
      "Epoch 36/300\n",
      "256022/256022 [==============================] - 2s - loss: 0.9675 - mean_squared_error: 0.9675 - val_loss: 1.0202 - val_mean_squared_error: 1.0202\n",
      "Epoch 37/300\n",
      "256022/256022 [==============================] - 2s - loss: 0.9670 - mean_squared_error: 0.9670 - val_loss: 1.0199 - val_mean_squared_error: 1.0199\n",
      "Epoch 38/300\n",
      "256022/256022 [==============================] - 2s - loss: 0.9669 - mean_squared_error: 0.9669 - val_loss: 1.0194 - val_mean_squared_error: 1.0194\n",
      "Epoch 39/300\n",
      "256022/256022 [==============================] - 2s - loss: 0.9666 - mean_squared_error: 0.9666 - val_loss: 1.0191 - val_mean_squared_error: 1.0191\n",
      "Epoch 40/300\n",
      "256022/256022 [==============================] - 2s - loss: 0.9662 - mean_squared_error: 0.9662 - val_loss: 1.0189 - val_mean_squared_error: 1.0189\n",
      "Epoch 41/300\n",
      "256022/256022 [==============================] - 2s - loss: 0.9660 - mean_squared_error: 0.9660 - val_loss: 1.0184 - val_mean_squared_error: 1.0184\n",
      "Epoch 42/300\n",
      "256022/256022 [==============================] - 2s - loss: 0.9657 - mean_squared_error: 0.9657 - val_loss: 1.0182 - val_mean_squared_error: 1.0182\n",
      "Epoch 43/300\n",
      "256022/256022 [==============================] - 2s - loss: 0.9654 - mean_squared_error: 0.9654 - val_loss: 1.0178 - val_mean_squared_error: 1.0178\n",
      "Epoch 44/300\n",
      "256022/256022 [==============================] - 2s - loss: 0.9652 - mean_squared_error: 0.9652 - val_loss: 1.0173 - val_mean_squared_error: 1.0173\n",
      "Epoch 45/300\n",
      "256022/256022 [==============================] - 2s - loss: 0.9650 - mean_squared_error: 0.9650 - val_loss: 1.0174 - val_mean_squared_error: 1.0174\n",
      "Epoch 46/300\n",
      "256022/256022 [==============================] - 2s - loss: 0.9647 - mean_squared_error: 0.9647 - val_loss: 1.0170 - val_mean_squared_error: 1.0170\n",
      "Epoch 47/300\n",
      "256022/256022 [==============================] - 2s - loss: 0.9647 - mean_squared_error: 0.9647 - val_loss: 1.0169 - val_mean_squared_error: 1.0169\n",
      "Epoch 48/300\n",
      "256022/256022 [==============================] - 2s - loss: 0.9645 - mean_squared_error: 0.9645 - val_loss: 1.0166 - val_mean_squared_error: 1.0166\n",
      "Epoch 49/300\n",
      "256022/256022 [==============================] - 2s - loss: 0.9643 - mean_squared_error: 0.9643 - val_loss: 1.0162 - val_mean_squared_error: 1.0162\n",
      "Epoch 50/300\n",
      "256022/256022 [==============================] - 2s - loss: 0.9640 - mean_squared_error: 0.9640 - val_loss: 1.0159 - val_mean_squared_error: 1.0159\n",
      "Epoch 51/300\n",
      "256022/256022 [==============================] - 2s - loss: 0.9638 - mean_squared_error: 0.9638 - val_loss: 1.0159 - val_mean_squared_error: 1.0159\n",
      "Epoch 52/300\n",
      "256022/256022 [==============================] - 2s - loss: 0.9637 - mean_squared_error: 0.9637 - val_loss: 1.0156 - val_mean_squared_error: 1.0156\n",
      "Epoch 53/300\n",
      "256022/256022 [==============================] - 2s - loss: 0.9634 - mean_squared_error: 0.9634 - val_loss: 1.0151 - val_mean_squared_error: 1.0151\n",
      "Epoch 54/300\n",
      "256022/256022 [==============================] - 2s - loss: 0.9636 - mean_squared_error: 0.9636 - val_loss: 1.0147 - val_mean_squared_error: 1.0147\n",
      "Epoch 55/300\n",
      "256022/256022 [==============================] - 2s - loss: 0.9632 - mean_squared_error: 0.9632 - val_loss: 1.0146 - val_mean_squared_error: 1.0146\n",
      "Epoch 56/300\n",
      "256022/256022 [==============================] - 2s - loss: 0.9631 - mean_squared_error: 0.9631 - val_loss: 1.0147 - val_mean_squared_error: 1.0147\n",
      "Epoch 57/300\n",
      "256022/256022 [==============================] - 2s - loss: 0.9628 - mean_squared_error: 0.9628 - val_loss: 1.0145 - val_mean_squared_error: 1.0145\n",
      "Epoch 58/300\n",
      "256022/256022 [==============================] - 2s - loss: 0.9628 - mean_squared_error: 0.9628 - val_loss: 1.0139 - val_mean_squared_error: 1.0139\n",
      "Epoch 59/300\n",
      "256022/256022 [==============================] - 2s - loss: 0.9625 - mean_squared_error: 0.9625 - val_loss: 1.0137 - val_mean_squared_error: 1.0137\n",
      "Epoch 60/300\n",
      "256022/256022 [==============================] - 2s - loss: 0.9624 - mean_squared_error: 0.9624 - val_loss: 1.0136 - val_mean_squared_error: 1.0136\n",
      "Epoch 61/300\n",
      "256022/256022 [==============================] - 2s - loss: 0.9623 - mean_squared_error: 0.9623 - val_loss: 1.0134 - val_mean_squared_error: 1.0134\n",
      "Epoch 62/300\n",
      "256022/256022 [==============================] - 2s - loss: 0.9621 - mean_squared_error: 0.9621 - val_loss: 1.0133 - val_mean_squared_error: 1.0133\n",
      "Epoch 63/300\n",
      "256022/256022 [==============================] - 2s - loss: 0.9622 - mean_squared_error: 0.9622 - val_loss: 1.0131 - val_mean_squared_error: 1.0131\n",
      "Epoch 64/300\n",
      "256022/256022 [==============================] - 2s - loss: 0.9619 - mean_squared_error: 0.9619 - val_loss: 1.0129 - val_mean_squared_error: 1.0129\n",
      "Epoch 65/300\n",
      "256022/256022 [==============================] - 2s - loss: 0.9619 - mean_squared_error: 0.9619 - val_loss: 1.0126 - val_mean_squared_error: 1.0126\n",
      "Epoch 66/300\n",
      "256022/256022 [==============================] - 2s - loss: 0.9618 - mean_squared_error: 0.9618 - val_loss: 1.0122 - val_mean_squared_error: 1.0122\n",
      "Epoch 67/300\n",
      "256022/256022 [==============================] - 2s - loss: 0.9614 - mean_squared_error: 0.9614 - val_loss: 1.0123 - val_mean_squared_error: 1.0123\n",
      "Epoch 68/300\n",
      "256022/256022 [==============================] - 2s - loss: 0.9615 - mean_squared_error: 0.9615 - val_loss: 1.0122 - val_mean_squared_error: 1.0122\n",
      "Epoch 69/300\n",
      "256022/256022 [==============================] - 2s - loss: 0.9614 - mean_squared_error: 0.9614 - val_loss: 1.0120 - val_mean_squared_error: 1.0120\n",
      "Epoch 70/300\n",
      "256022/256022 [==============================] - 2s - loss: 0.9612 - mean_squared_error: 0.9612 - val_loss: 1.0118 - val_mean_squared_error: 1.0118\n",
      "Epoch 71/300\n",
      "256022/256022 [==============================] - 2s - loss: 0.9612 - mean_squared_error: 0.9612 - val_loss: 1.0116 - val_mean_squared_error: 1.0116\n",
      "Epoch 72/300\n",
      "256022/256022 [==============================] - 2s - loss: 0.9609 - mean_squared_error: 0.9609 - val_loss: 1.0115 - val_mean_squared_error: 1.0115\n",
      "Epoch 73/300\n",
      "256022/256022 [==============================] - 2s - loss: 0.9610 - mean_squared_error: 0.9610 - val_loss: 1.0113 - val_mean_squared_error: 1.0113\n",
      "Epoch 74/300\n",
      "116500/256022 [============>.................] - ETA: 1s - loss: 0.9611 - mean_squared_error: 0.9611"
     ]
    },
    {
     "ename": "KeyboardInterrupt",
     "evalue": "",
     "output_type": "error",
     "traceback": [
      "\u001b[0;31m---------------------------------------------------------------------------\u001b[0m",
      "\u001b[0;31mKeyboardInterrupt\u001b[0m                         Traceback (most recent call last)",
      "\u001b[0;32m<ipython-input-153-0b11eb7a7af1>\u001b[0m in \u001b[0;36m<module>\u001b[0;34m()\u001b[0m\n\u001b[1;32m      6\u001b[0m                     \u001b[0mepochs\u001b[0m\u001b[0;34m=\u001b[0m\u001b[0mepochs\u001b[0m\u001b[0;34m,\u001b[0m\u001b[0;34m\u001b[0m\u001b[0m\n\u001b[1;32m      7\u001b[0m                     \u001b[0mverbose\u001b[0m\u001b[0;34m=\u001b[0m\u001b[0;36m1\u001b[0m\u001b[0;34m,\u001b[0m\u001b[0;34m\u001b[0m\u001b[0m\n\u001b[0;32m----> 8\u001b[0;31m                     callbacks=[reduce_lr, earlystopper])\n\u001b[0m",
      "\u001b[0;32m~/efs/anaconda3/envs/dl/lib/python3.6/site-packages/keras/models.py\u001b[0m in \u001b[0;36mfit\u001b[0;34m(self, x, y, batch_size, epochs, verbose, callbacks, validation_split, validation_data, shuffle, class_weight, sample_weight, initial_epoch, **kwargs)\u001b[0m\n\u001b[1;32m    861\u001b[0m                               \u001b[0mclass_weight\u001b[0m\u001b[0;34m=\u001b[0m\u001b[0mclass_weight\u001b[0m\u001b[0;34m,\u001b[0m\u001b[0;34m\u001b[0m\u001b[0m\n\u001b[1;32m    862\u001b[0m                               \u001b[0msample_weight\u001b[0m\u001b[0;34m=\u001b[0m\u001b[0msample_weight\u001b[0m\u001b[0;34m,\u001b[0m\u001b[0;34m\u001b[0m\u001b[0m\n\u001b[0;32m--> 863\u001b[0;31m                               initial_epoch=initial_epoch)\n\u001b[0m\u001b[1;32m    864\u001b[0m \u001b[0;34m\u001b[0m\u001b[0m\n\u001b[1;32m    865\u001b[0m     def evaluate(self, x, y, batch_size=32, verbose=1,\n",
      "\u001b[0;32m~/efs/anaconda3/envs/dl/lib/python3.6/site-packages/keras/engine/training.py\u001b[0m in \u001b[0;36mfit\u001b[0;34m(self, x, y, batch_size, epochs, verbose, callbacks, validation_split, validation_data, shuffle, class_weight, sample_weight, initial_epoch, **kwargs)\u001b[0m\n\u001b[1;32m   1428\u001b[0m                               \u001b[0mval_f\u001b[0m\u001b[0;34m=\u001b[0m\u001b[0mval_f\u001b[0m\u001b[0;34m,\u001b[0m \u001b[0mval_ins\u001b[0m\u001b[0;34m=\u001b[0m\u001b[0mval_ins\u001b[0m\u001b[0;34m,\u001b[0m \u001b[0mshuffle\u001b[0m\u001b[0;34m=\u001b[0m\u001b[0mshuffle\u001b[0m\u001b[0;34m,\u001b[0m\u001b[0;34m\u001b[0m\u001b[0m\n\u001b[1;32m   1429\u001b[0m                               \u001b[0mcallback_metrics\u001b[0m\u001b[0;34m=\u001b[0m\u001b[0mcallback_metrics\u001b[0m\u001b[0;34m,\u001b[0m\u001b[0;34m\u001b[0m\u001b[0m\n\u001b[0;32m-> 1430\u001b[0;31m                               initial_epoch=initial_epoch)\n\u001b[0m\u001b[1;32m   1431\u001b[0m \u001b[0;34m\u001b[0m\u001b[0m\n\u001b[1;32m   1432\u001b[0m     \u001b[0;32mdef\u001b[0m \u001b[0mevaluate\u001b[0m\u001b[0;34m(\u001b[0m\u001b[0mself\u001b[0m\u001b[0;34m,\u001b[0m \u001b[0mx\u001b[0m\u001b[0;34m,\u001b[0m \u001b[0my\u001b[0m\u001b[0;34m,\u001b[0m \u001b[0mbatch_size\u001b[0m\u001b[0;34m=\u001b[0m\u001b[0;36m32\u001b[0m\u001b[0;34m,\u001b[0m \u001b[0mverbose\u001b[0m\u001b[0;34m=\u001b[0m\u001b[0;36m1\u001b[0m\u001b[0;34m,\u001b[0m \u001b[0msample_weight\u001b[0m\u001b[0;34m=\u001b[0m\u001b[0;32mNone\u001b[0m\u001b[0;34m)\u001b[0m\u001b[0;34m:\u001b[0m\u001b[0;34m\u001b[0m\u001b[0m\n",
      "\u001b[0;32m~/efs/anaconda3/envs/dl/lib/python3.6/site-packages/keras/engine/training.py\u001b[0m in \u001b[0;36m_fit_loop\u001b[0;34m(self, f, ins, out_labels, batch_size, epochs, verbose, callbacks, val_f, val_ins, shuffle, callback_metrics, initial_epoch)\u001b[0m\n\u001b[1;32m   1077\u001b[0m                 \u001b[0mbatch_logs\u001b[0m\u001b[0;34m[\u001b[0m\u001b[0;34m'size'\u001b[0m\u001b[0;34m]\u001b[0m \u001b[0;34m=\u001b[0m \u001b[0mlen\u001b[0m\u001b[0;34m(\u001b[0m\u001b[0mbatch_ids\u001b[0m\u001b[0;34m)\u001b[0m\u001b[0;34m\u001b[0m\u001b[0m\n\u001b[1;32m   1078\u001b[0m                 \u001b[0mcallbacks\u001b[0m\u001b[0;34m.\u001b[0m\u001b[0mon_batch_begin\u001b[0m\u001b[0;34m(\u001b[0m\u001b[0mbatch_index\u001b[0m\u001b[0;34m,\u001b[0m \u001b[0mbatch_logs\u001b[0m\u001b[0;34m)\u001b[0m\u001b[0;34m\u001b[0m\u001b[0m\n\u001b[0;32m-> 1079\u001b[0;31m                 \u001b[0mouts\u001b[0m \u001b[0;34m=\u001b[0m \u001b[0mf\u001b[0m\u001b[0;34m(\u001b[0m\u001b[0mins_batch\u001b[0m\u001b[0;34m)\u001b[0m\u001b[0;34m\u001b[0m\u001b[0m\n\u001b[0m\u001b[1;32m   1080\u001b[0m                 \u001b[0;32mif\u001b[0m \u001b[0;32mnot\u001b[0m \u001b[0misinstance\u001b[0m\u001b[0;34m(\u001b[0m\u001b[0mouts\u001b[0m\u001b[0;34m,\u001b[0m \u001b[0mlist\u001b[0m\u001b[0;34m)\u001b[0m\u001b[0;34m:\u001b[0m\u001b[0;34m\u001b[0m\u001b[0m\n\u001b[1;32m   1081\u001b[0m                     \u001b[0mouts\u001b[0m \u001b[0;34m=\u001b[0m \u001b[0;34m[\u001b[0m\u001b[0mouts\u001b[0m\u001b[0;34m]\u001b[0m\u001b[0;34m\u001b[0m\u001b[0m\n",
      "\u001b[0;32m~/efs/anaconda3/envs/dl/lib/python3.6/site-packages/keras/backend/tensorflow_backend.py\u001b[0m in \u001b[0;36m__call__\u001b[0;34m(self, inputs)\u001b[0m\n\u001b[1;32m   2266\u001b[0m         updated = session.run(self.outputs + [self.updates_op],\n\u001b[1;32m   2267\u001b[0m                               \u001b[0mfeed_dict\u001b[0m\u001b[0;34m=\u001b[0m\u001b[0mfeed_dict\u001b[0m\u001b[0;34m,\u001b[0m\u001b[0;34m\u001b[0m\u001b[0m\n\u001b[0;32m-> 2268\u001b[0;31m                               **self.session_kwargs)\n\u001b[0m\u001b[1;32m   2269\u001b[0m         \u001b[0;32mreturn\u001b[0m \u001b[0mupdated\u001b[0m\u001b[0;34m[\u001b[0m\u001b[0;34m:\u001b[0m\u001b[0mlen\u001b[0m\u001b[0;34m(\u001b[0m\u001b[0mself\u001b[0m\u001b[0;34m.\u001b[0m\u001b[0moutputs\u001b[0m\u001b[0;34m)\u001b[0m\u001b[0;34m]\u001b[0m\u001b[0;34m\u001b[0m\u001b[0m\n\u001b[1;32m   2270\u001b[0m \u001b[0;34m\u001b[0m\u001b[0m\n",
      "\u001b[0;32m~/efs/anaconda3/envs/dl/lib/python3.6/site-packages/tensorflow/python/client/session.py\u001b[0m in \u001b[0;36mrun\u001b[0;34m(self, fetches, feed_dict, options, run_metadata)\u001b[0m\n\u001b[1;32m    893\u001b[0m     \u001b[0;32mtry\u001b[0m\u001b[0;34m:\u001b[0m\u001b[0;34m\u001b[0m\u001b[0m\n\u001b[1;32m    894\u001b[0m       result = self._run(None, fetches, feed_dict, options_ptr,\n\u001b[0;32m--> 895\u001b[0;31m                          run_metadata_ptr)\n\u001b[0m\u001b[1;32m    896\u001b[0m       \u001b[0;32mif\u001b[0m \u001b[0mrun_metadata\u001b[0m\u001b[0;34m:\u001b[0m\u001b[0;34m\u001b[0m\u001b[0m\n\u001b[1;32m    897\u001b[0m         \u001b[0mproto_data\u001b[0m \u001b[0;34m=\u001b[0m \u001b[0mtf_session\u001b[0m\u001b[0;34m.\u001b[0m\u001b[0mTF_GetBuffer\u001b[0m\u001b[0;34m(\u001b[0m\u001b[0mrun_metadata_ptr\u001b[0m\u001b[0;34m)\u001b[0m\u001b[0;34m\u001b[0m\u001b[0m\n",
      "\u001b[0;32m~/efs/anaconda3/envs/dl/lib/python3.6/site-packages/tensorflow/python/client/session.py\u001b[0m in \u001b[0;36m_run\u001b[0;34m(self, handle, fetches, feed_dict, options, run_metadata)\u001b[0m\n\u001b[1;32m   1122\u001b[0m     \u001b[0;32mif\u001b[0m \u001b[0mfinal_fetches\u001b[0m \u001b[0;32mor\u001b[0m \u001b[0mfinal_targets\u001b[0m \u001b[0;32mor\u001b[0m \u001b[0;34m(\u001b[0m\u001b[0mhandle\u001b[0m \u001b[0;32mand\u001b[0m \u001b[0mfeed_dict_tensor\u001b[0m\u001b[0;34m)\u001b[0m\u001b[0;34m:\u001b[0m\u001b[0;34m\u001b[0m\u001b[0m\n\u001b[1;32m   1123\u001b[0m       results = self._do_run(handle, final_targets, final_fetches,\n\u001b[0;32m-> 1124\u001b[0;31m                              feed_dict_tensor, options, run_metadata)\n\u001b[0m\u001b[1;32m   1125\u001b[0m     \u001b[0;32melse\u001b[0m\u001b[0;34m:\u001b[0m\u001b[0;34m\u001b[0m\u001b[0m\n\u001b[1;32m   1126\u001b[0m       \u001b[0mresults\u001b[0m \u001b[0;34m=\u001b[0m \u001b[0;34m[\u001b[0m\u001b[0;34m]\u001b[0m\u001b[0;34m\u001b[0m\u001b[0m\n",
      "\u001b[0;32m~/efs/anaconda3/envs/dl/lib/python3.6/site-packages/tensorflow/python/client/session.py\u001b[0m in \u001b[0;36m_do_run\u001b[0;34m(self, handle, target_list, fetch_list, feed_dict, options, run_metadata)\u001b[0m\n\u001b[1;32m   1319\u001b[0m     \u001b[0;32mif\u001b[0m \u001b[0mhandle\u001b[0m \u001b[0;32mis\u001b[0m \u001b[0;32mNone\u001b[0m\u001b[0;34m:\u001b[0m\u001b[0;34m\u001b[0m\u001b[0m\n\u001b[1;32m   1320\u001b[0m       return self._do_call(_run_fn, self._session, feeds, fetches, targets,\n\u001b[0;32m-> 1321\u001b[0;31m                            options, run_metadata)\n\u001b[0m\u001b[1;32m   1322\u001b[0m     \u001b[0;32melse\u001b[0m\u001b[0;34m:\u001b[0m\u001b[0;34m\u001b[0m\u001b[0m\n\u001b[1;32m   1323\u001b[0m       \u001b[0;32mreturn\u001b[0m \u001b[0mself\u001b[0m\u001b[0;34m.\u001b[0m\u001b[0m_do_call\u001b[0m\u001b[0;34m(\u001b[0m\u001b[0m_prun_fn\u001b[0m\u001b[0;34m,\u001b[0m \u001b[0mself\u001b[0m\u001b[0;34m.\u001b[0m\u001b[0m_session\u001b[0m\u001b[0;34m,\u001b[0m \u001b[0mhandle\u001b[0m\u001b[0;34m,\u001b[0m \u001b[0mfeeds\u001b[0m\u001b[0;34m,\u001b[0m \u001b[0mfetches\u001b[0m\u001b[0;34m)\u001b[0m\u001b[0;34m\u001b[0m\u001b[0m\n",
      "\u001b[0;32m~/efs/anaconda3/envs/dl/lib/python3.6/site-packages/tensorflow/python/client/session.py\u001b[0m in \u001b[0;36m_do_call\u001b[0;34m(self, fn, *args)\u001b[0m\n\u001b[1;32m   1325\u001b[0m   \u001b[0;32mdef\u001b[0m \u001b[0m_do_call\u001b[0m\u001b[0;34m(\u001b[0m\u001b[0mself\u001b[0m\u001b[0;34m,\u001b[0m \u001b[0mfn\u001b[0m\u001b[0;34m,\u001b[0m \u001b[0;34m*\u001b[0m\u001b[0margs\u001b[0m\u001b[0;34m)\u001b[0m\u001b[0;34m:\u001b[0m\u001b[0;34m\u001b[0m\u001b[0m\n\u001b[1;32m   1326\u001b[0m     \u001b[0;32mtry\u001b[0m\u001b[0;34m:\u001b[0m\u001b[0;34m\u001b[0m\u001b[0m\n\u001b[0;32m-> 1327\u001b[0;31m       \u001b[0;32mreturn\u001b[0m \u001b[0mfn\u001b[0m\u001b[0;34m(\u001b[0m\u001b[0;34m*\u001b[0m\u001b[0margs\u001b[0m\u001b[0;34m)\u001b[0m\u001b[0;34m\u001b[0m\u001b[0m\n\u001b[0m\u001b[1;32m   1328\u001b[0m     \u001b[0;32mexcept\u001b[0m \u001b[0merrors\u001b[0m\u001b[0;34m.\u001b[0m\u001b[0mOpError\u001b[0m \u001b[0;32mas\u001b[0m \u001b[0me\u001b[0m\u001b[0;34m:\u001b[0m\u001b[0;34m\u001b[0m\u001b[0m\n\u001b[1;32m   1329\u001b[0m       \u001b[0mmessage\u001b[0m \u001b[0;34m=\u001b[0m \u001b[0mcompat\u001b[0m\u001b[0;34m.\u001b[0m\u001b[0mas_text\u001b[0m\u001b[0;34m(\u001b[0m\u001b[0me\u001b[0m\u001b[0;34m.\u001b[0m\u001b[0mmessage\u001b[0m\u001b[0;34m)\u001b[0m\u001b[0;34m\u001b[0m\u001b[0m\n",
      "\u001b[0;32m~/efs/anaconda3/envs/dl/lib/python3.6/site-packages/tensorflow/python/client/session.py\u001b[0m in \u001b[0;36m_run_fn\u001b[0;34m(session, feed_dict, fetch_list, target_list, options, run_metadata)\u001b[0m\n\u001b[1;32m   1304\u001b[0m           return tf_session.TF_Run(session, options,\n\u001b[1;32m   1305\u001b[0m                                    \u001b[0mfeed_dict\u001b[0m\u001b[0;34m,\u001b[0m \u001b[0mfetch_list\u001b[0m\u001b[0;34m,\u001b[0m \u001b[0mtarget_list\u001b[0m\u001b[0;34m,\u001b[0m\u001b[0;34m\u001b[0m\u001b[0m\n\u001b[0;32m-> 1306\u001b[0;31m                                    status, run_metadata)\n\u001b[0m\u001b[1;32m   1307\u001b[0m \u001b[0;34m\u001b[0m\u001b[0m\n\u001b[1;32m   1308\u001b[0m     \u001b[0;32mdef\u001b[0m \u001b[0m_prun_fn\u001b[0m\u001b[0;34m(\u001b[0m\u001b[0msession\u001b[0m\u001b[0;34m,\u001b[0m \u001b[0mhandle\u001b[0m\u001b[0;34m,\u001b[0m \u001b[0mfeed_dict\u001b[0m\u001b[0;34m,\u001b[0m \u001b[0mfetch_list\u001b[0m\u001b[0;34m)\u001b[0m\u001b[0;34m:\u001b[0m\u001b[0;34m\u001b[0m\u001b[0m\n",
      "\u001b[0;31mKeyboardInterrupt\u001b[0m: "
     ]
    }
   ],
   "source": [
    "batch_size = 500\n",
    "epochs = 300\n",
    "history = model.fit(res_x, log_y,\n",
    "                    validation_split=0.2,\n",
    "                    batch_size=batch_size,\n",
    "                    epochs=epochs,\n",
    "                    verbose=1,\n",
    "                    callbacks=[reduce_lr, earlystopper])"
   ]
  },
  {
   "cell_type": "code",
   "execution_count": 111,
   "metadata": {},
   "outputs": [
    {
     "data": {
      "image/png": "[encoded data removed]",
      "text/plain": [
       "<matplotlib.figure.Figure at 0x7f9ea8d757b8>"
      ]
     },
     "metadata": {},
     "output_type": "display_data"
    }
   ],
   "source": [
    "pd.DataFrame(history.history).plot();"
   ]
  },
  {
   "cell_type": "code",
   "execution_count": 154,
   "metadata": {},
   "outputs": [
    {
     "name": "stdout",
     "output_type": "stream",
     "text": [
      "mean spedings of the testing set:  -0.899731162642\n",
      "root mean squared error:  0.875137166862\n"
     ]
    }
   ],
   "source": [
    "pred = model.predict(reduced_data_test)\n",
    "print('mean spedings of the testing set: ', log_ytest.mean())\n",
    "print('root mean squared error: ', rmse(log_ytest.values.reshape((pred.shape)), pred))"
   ]
  },
  {
   "cell_type": "code",
   "execution_count": 155,
   "metadata": {},
   "outputs": [
    {
     "name": "stdout",
     "output_type": "stream",
     "text": [
      "113.1284\n"
     ]
    },
    {
     "data": {
      "image/png": "[encoded data removed]",
      "text/plain": [
       "<matplotlib.figure.Figure at 0x7f9f3f647f98>"
      ]
     },
     "metadata": {},
     "output_type": "display_data"
    }
   ],
   "source": [
    "print(10**(log_ytest.values.reshape((pred.shape))).max())\n",
    "plt.hist(10**(log_ytest.values.reshape((pred.shape))));\n",
    "plt.show();"
   ]
  },
  {
   "cell_type": "code",
   "execution_count": 156,
   "metadata": {},
   "outputs": [
    {
     "data": {
      "image/png": "[encoded data removed]",
      "text/plain": [
       "<matplotlib.figure.Figure at 0x7f9f3f6fe2e8>"
      ]
     },
     "metadata": {},
     "output_type": "display_data"
    }
   ],
   "source": [
    "plt.hist(10**(pred));\n",
    "plt.show();"
   ]
  },
  {
   "cell_type": "code",
   "execution_count": 157,
   "metadata": {},
   "outputs": [
    {
     "data": {
      "text/plain": [
       "6.4779711422339705"
      ]
     },
     "execution_count": 157,
     "metadata": {},
     "output_type": "execute_result"
    }
   ],
   "source": [
    "rmse(10**(log_ytest.values.reshape((pred.shape))), 10**(pred))"
   ]
  },
  {
   "cell_type": "code",
   "execution_count": 159,
   "metadata": {},
   "outputs": [
    {
     "data": {
      "image/png": "[encoded data removed]",
      "text/plain": [
       "<matplotlib.figure.Figure at 0x7f9f3f65a1d0>"
      ]
     },
     "metadata": {},
     "output_type": "display_data"
    }
   ],
   "source": [
    "count, bins, ignored = plt.hist(10**pred, normed=True)\n",
    "plt.plot(bins, np.zeros_like(bins), linewidth=2)\n",
    "plt.show();"
   ]
  },
  {
   "cell_type": "markdown",
   "metadata": {},
   "source": [
    "## Hyperparameter Tuning"
   ]
  },
  {
   "cell_type": "code",
   "execution_count": 68,
   "metadata": {
    "collapsed": true
   },
   "outputs": [],
   "source": [
    "tune_model = KerasRegressor(build_fn=create_model, \n",
    "                            verbose=0,\n",
    "                            epochs=500, \n",
    "                            learn_rate=0.01, \n",
    "                            decay=0.01, \n",
    "                            init='normal', \n",
    "                            drop_out=0.2, \n",
    "                            loss='mae', \n",
    "                            units=32)"
   ]
  },
  {
   "cell_type": "code",
   "execution_count": 69,
   "metadata": {
    "collapsed": true
   },
   "outputs": [],
   "source": [
    "batches = [300, 400]\n",
    "decay = [0.1, 0.001, 0.0001]"
   ]
  },
  {
   "cell_type": "code",
   "execution_count": 70,
   "metadata": {},
   "outputs": [
    {
     "data": {
      "text/plain": [
       "{'batch_size': [300, 400], 'decay': [0.1, 0.001, 0.0001]}"
      ]
     },
     "execution_count": 70,
     "metadata": {},
     "output_type": "execute_result"
    }
   ],
   "source": [
    "param_grid = dict(\n",
    "                  decay=decay,\n",
    "                  batch_size=batches, \n",
    "                  )\n",
    "param_grid"
   ]
  },
  {
   "cell_type": "code",
   "execution_count": null,
   "metadata": {
    "scrolled": false
   },
   "outputs": [
    {
     "name": "stdout",
     "output_type": "stream",
     "text": [
      "Fitting 5 folds for each of 6 candidates, totalling 30 fits\n"
     ]
    }
   ],
   "source": [
    "grid = GridSearchCV(estimator=tune_model, param_grid=param_grid, cv=5, n_jobs=30, verbose=1)\n",
    "grid_result = grid.fit(res_x,res_y)"
   ]
  },
  {
   "cell_type": "code",
   "execution_count": null,
   "metadata": {
    "collapsed": true
   },
   "outputs": [],
   "source": [
    "print(\"Best: %f using %s\" % (grid_result.best_score_, grid_result.best_params_))\n",
    "means = grid_result.cv_results_['mean_test_score']\n",
    "stds = grid_result.cv_results_['std_test_score']\n",
    "params = grid_result.cv_results_['params']\n",
    "for mean, stdev, param in zip(means, stds, params):\n",
    "    print(\"%f (%f) with: %r\" % (mean, stdev, param))"
   ]
  },
  {
   "cell_type": "markdown",
   "metadata": {},
   "source": [
    "## Cross Validation"
   ]
  },
  {
   "cell_type": "code",
   "execution_count": null,
   "metadata": {
    "collapsed": true
   },
   "outputs": [],
   "source": [
    "# kfold = StratifiedKFold(n_splits=10, shuffle=True, random_state=4320)\n",
    "# cvscores = []\n",
    "# cvlosses = []"
   ]
  },
  {
   "cell_type": "code",
   "execution_count": null,
   "metadata": {
    "collapsed": true
   },
   "outputs": [],
   "source": [
    "# for train, test in kfold.split(res_x, res_y.reshape((res_y.shape[0],))):\n",
    "#     create_model(input_shape=input_shape, drop_out=drop_out)\n",
    "#     model.compile(loss=loss, \n",
    "#               optimizer=optimizer, \n",
    "#               metrics=metric)\n",
    "#     model.fit(res_x[train], res_y[train], epochs=200, batch_size=500, verbose=0)\n",
    "#     score = model.evaluate(res_x[test], res_y[test], verbose=1)\n",
    "#     print(\"%s: %.2f%%\" % (model.metrics_names[1], scores[1]*100))\n",
    "#     cvlosses.append(score[0])\n",
    "#     cvscores.append(scores[1] * 100)"
   ]
  },
  {
   "cell_type": "code",
   "execution_count": null,
   "metadata": {
    "collapsed": true
   },
   "outputs": [],
   "source": []
  },
  {
   "cell_type": "code",
   "execution_count": null,
   "metadata": {
    "collapsed": true
   },
   "outputs": [],
   "source": [
    "# xx = np.concatenate((norm_train,y_train.values.reshape((y_train.shape[0],1))), axis=1)\n",
    "\n",
    "# ind = np.random.choice(len(xx[xx[:,-1]==0]), size=len(xx[xx[:,-1]>0]), replace=False)\n",
    "\n",
    "# small_train = np.concatenate((xx[xx[:,-1]==0][ind], xx[xx[:,-1]>0]))\n",
    "\n",
    "# np.random.shuffle(small_train)\n",
    "\n",
    "# sns.countplot(small_train[:,-1]>0);\n",
    "\n",
    "# small_x, small_y = small_train[:,:-1], small_train[:,-1]"
   ]
  },
  {
   "cell_type": "markdown",
   "metadata": {},
   "source": [
    "# Cluster"
   ]
  },
  {
   "cell_type": "code",
   "execution_count": 56,
   "metadata": {
    "collapsed": true
   },
   "outputs": [],
   "source": [
    "from sklearn.cluster import KMeans"
   ]
  },
  {
   "cell_type": "code",
   "execution_count": 121,
   "metadata": {},
   "outputs": [
    {
     "name": "stderr",
     "output_type": "stream",
     "text": [
      "/home/rstudio/efs/anaconda3/envs/dl/lib/python3.6/site-packages/ipykernel_launcher.py:1: FutureWarning: reshape is deprecated and will raise in a subsequent release. Please use .values.reshape(...) instead\n",
      "  \"\"\"Entry point for launching an IPython kernel.\n"
     ]
    }
   ],
   "source": [
    "kmeans = KMeans(n_clusters=3, random_state=42).fit(np.concatenate((reduced_data_test,y_test.reshape((y_test.shape[0],1))),axis=1))"
   ]
  },
  {
   "cell_type": "code",
   "execution_count": 122,
   "metadata": {},
   "outputs": [
    {
     "data": {
      "text/plain": [
       "<matplotlib.axes._subplots.AxesSubplot at 0x7fccff189550>"
      ]
     },
     "execution_count": 122,
     "metadata": {},
     "output_type": "execute_result"
    },
    {
     "data": {
      "image/png": "[encoded data removed]",
      "text/plain": [
       "<matplotlib.figure.Figure at 0x7fccff643470>"
      ]
     },
     "metadata": {},
     "output_type": "display_data"
    }
   ],
   "source": [
    "clusters = kmeans.labels_\n",
    "sns.countplot(clusters)"
   ]
  },
  {
   "cell_type": "code",
   "execution_count": 123,
   "metadata": {
    "collapsed": true
   },
   "outputs": [],
   "source": [
    "index_list=[]\n",
    "for i in range(3):\n",
    "    index_list.append(clusters==i)"
   ]
  },
  {
   "cell_type": "code",
   "execution_count": 125,
   "metadata": {},
   "outputs": [
    {
     "name": "stdout",
     "output_type": "stream",
     "text": [
      "mean ltv of cluster 0 : 0.228983701783\n",
      "mean ltv of cluster 1 : 93.3712850394\n",
      "mean ltv of cluster 2 : 32.6140794979\n"
     ]
    }
   ],
   "source": [
    "for i, index in zip(range(3),index_list):\n",
    "    print('mean ltv of cluster {} :'.format(i), y_test[index].mean())"
   ]
  },
  {
   "cell_type": "code",
   "execution_count": null,
   "metadata": {
    "collapsed": true
   },
   "outputs": [],
   "source": []
  }
 ],
 "metadata": {
  "kernelspec": {
   "display_name": "Python 3",
   "language": "python",
   "name": "python3"
  },
  "language_info": {
   "codemirror_mode": {
    "name": "ipython",
    "version": 3
   },
   "file_extension": ".py",
   "mimetype": "text/x-python",
   "name": "python",
   "nbconvert_exporter": "python",
   "pygments_lexer": "ipython3",
   "version": "3.6.2"
  }
 },
 "nbformat": 4,
 "nbformat_minor": 2
}
