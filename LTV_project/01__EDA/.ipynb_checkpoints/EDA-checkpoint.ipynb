{
 "cells": [
  {
   "cell_type": "code",
   "execution_count": 60,
   "metadata": {},
   "outputs": [
    {
     "name": "stderr",
     "output_type": "stream",
     "text": [
      "Using TensorFlow backend.\n"
     ]
    }
   ],
   "source": [
    "import pandas as pd\n",
    "import numpy as np\n",
    "import seaborn as sns\n",
    "import random\n",
    "import itertools\n",
    "from collections import Counter\n",
    "from scipy import stats\n",
    "from sklearn.preprocessing import normalize\n",
    "from sklearn.model_selection import train_test_split\n",
    "from sklearn.manifold import TSNE\n",
    "from imblearn.combine import SMOTEENN\n",
    "import keras\n",
    "from keras.layers.normalization import BatchNormalization\n",
    "from keras.models import Sequential, Model, load_model\n",
    "from keras.layers import Dense, Dropout, Input, Activation\n",
    "from keras.optimizers import Adam\n",
    "from keras import regularizers\n",
    "from keras.wrappers.scikit_learn import KerasRegressor\n",
    "from keras.callbacks import ModelCheckpoint, ReduceLROnPlateau, EarlyStopping\n",
    "import keras.backend as K\n",
    "import matplotlib.pyplot as plt\n",
    "%matplotlib inline"
   ]
  },
  {
   "cell_type": "markdown",
   "metadata": {},
   "source": [
    "### Load data to Panda "
   ]
  },
  {
   "cell_type": "code",
   "execution_count": 2,
   "metadata": {
    "collapsed": true
   },
   "outputs": [],
   "source": [
    "df = pd.read_csv('Data/clean_testing_Candy.csv', index_col=0, low_memory=False)\n",
    "del df['treatment']"
   ]
  },
  {
   "cell_type": "code",
   "execution_count": 3,
   "metadata": {},
   "outputs": [
    {
     "data": {
      "text/html": [
       "<div>\n",
       "<style>\n",
       "    .dataframe thead tr:only-child th {\n",
       "        text-align: right;\n",
       "    }\n",
       "\n",
       "    .dataframe thead th {\n",
       "        text-align: left;\n",
       "    }\n",
       "\n",
       "    .dataframe tbody tr th {\n",
       "        vertical-align: top;\n",
       "    }\n",
       "</style>\n",
       "<table border=\"1\" class=\"dataframe\">\n",
       "  <thead>\n",
       "    <tr style=\"text-align: right;\">\n",
       "      <th></th>\n",
       "      <th>t0_geoip_metro_code_others_level</th>\n",
       "      <th>t0_geoip_metro_code_MC_501</th>\n",
       "      <th>t0_geoip_metro_code_MC_504</th>\n",
       "      <th>t0_geoip_metro_code_MC_506</th>\n",
       "      <th>t0_geoip_metro_code_MC_511</th>\n",
       "      <th>t0_geoip_metro_code_MC_524</th>\n",
       "      <th>t0_geoip_metro_code_MC_602</th>\n",
       "      <th>t0_geoip_metro_code_MC_618</th>\n",
       "      <th>t0_geoip_metro_code_MC_623</th>\n",
       "      <th>t0_geoip_metro_code_MC_803</th>\n",
       "      <th>...</th>\n",
       "      <th>median_hh_inc_NA</th>\n",
       "      <th>mean_hh_inc_NA</th>\n",
       "      <th>owner_occupied_hh_NA</th>\n",
       "      <th>pct_native_born_NA</th>\n",
       "      <th>pct_white_NA</th>\n",
       "      <th>pct_men_in_labor_force_NA</th>\n",
       "      <th>pct_women_in_labor_force_NA</th>\n",
       "      <th>pct_25_up_NA</th>\n",
       "      <th>ppl_per_hh_NA</th>\n",
       "      <th>pct_owner_occupied_hh_NA</th>\n",
       "    </tr>\n",
       "  </thead>\n",
       "  <tbody>\n",
       "    <tr>\n",
       "      <th>1</th>\n",
       "      <td>0</td>\n",
       "      <td>0</td>\n",
       "      <td>0</td>\n",
       "      <td>0</td>\n",
       "      <td>0</td>\n",
       "      <td>0</td>\n",
       "      <td>0</td>\n",
       "      <td>0</td>\n",
       "      <td>0</td>\n",
       "      <td>0</td>\n",
       "      <td>...</td>\n",
       "      <td>1</td>\n",
       "      <td>1</td>\n",
       "      <td>1</td>\n",
       "      <td>1</td>\n",
       "      <td>1</td>\n",
       "      <td>1</td>\n",
       "      <td>1</td>\n",
       "      <td>1</td>\n",
       "      <td>1</td>\n",
       "      <td>1</td>\n",
       "    </tr>\n",
       "    <tr>\n",
       "      <th>2</th>\n",
       "      <td>0</td>\n",
       "      <td>0</td>\n",
       "      <td>0</td>\n",
       "      <td>0</td>\n",
       "      <td>0</td>\n",
       "      <td>0</td>\n",
       "      <td>0</td>\n",
       "      <td>1</td>\n",
       "      <td>0</td>\n",
       "      <td>0</td>\n",
       "      <td>...</td>\n",
       "      <td>0</td>\n",
       "      <td>0</td>\n",
       "      <td>0</td>\n",
       "      <td>0</td>\n",
       "      <td>0</td>\n",
       "      <td>0</td>\n",
       "      <td>0</td>\n",
       "      <td>0</td>\n",
       "      <td>0</td>\n",
       "      <td>0</td>\n",
       "    </tr>\n",
       "    <tr>\n",
       "      <th>3</th>\n",
       "      <td>0</td>\n",
       "      <td>0</td>\n",
       "      <td>0</td>\n",
       "      <td>0</td>\n",
       "      <td>0</td>\n",
       "      <td>0</td>\n",
       "      <td>0</td>\n",
       "      <td>0</td>\n",
       "      <td>0</td>\n",
       "      <td>0</td>\n",
       "      <td>...</td>\n",
       "      <td>1</td>\n",
       "      <td>1</td>\n",
       "      <td>1</td>\n",
       "      <td>1</td>\n",
       "      <td>1</td>\n",
       "      <td>1</td>\n",
       "      <td>1</td>\n",
       "      <td>1</td>\n",
       "      <td>1</td>\n",
       "      <td>1</td>\n",
       "    </tr>\n",
       "    <tr>\n",
       "      <th>4</th>\n",
       "      <td>0</td>\n",
       "      <td>0</td>\n",
       "      <td>0</td>\n",
       "      <td>0</td>\n",
       "      <td>0</td>\n",
       "      <td>0</td>\n",
       "      <td>1</td>\n",
       "      <td>0</td>\n",
       "      <td>0</td>\n",
       "      <td>0</td>\n",
       "      <td>...</td>\n",
       "      <td>0</td>\n",
       "      <td>0</td>\n",
       "      <td>0</td>\n",
       "      <td>0</td>\n",
       "      <td>0</td>\n",
       "      <td>0</td>\n",
       "      <td>0</td>\n",
       "      <td>0</td>\n",
       "      <td>0</td>\n",
       "      <td>0</td>\n",
       "    </tr>\n",
       "    <tr>\n",
       "      <th>5</th>\n",
       "      <td>1</td>\n",
       "      <td>0</td>\n",
       "      <td>0</td>\n",
       "      <td>0</td>\n",
       "      <td>0</td>\n",
       "      <td>0</td>\n",
       "      <td>0</td>\n",
       "      <td>0</td>\n",
       "      <td>0</td>\n",
       "      <td>0</td>\n",
       "      <td>...</td>\n",
       "      <td>0</td>\n",
       "      <td>0</td>\n",
       "      <td>0</td>\n",
       "      <td>0</td>\n",
       "      <td>0</td>\n",
       "      <td>0</td>\n",
       "      <td>0</td>\n",
       "      <td>0</td>\n",
       "      <td>0</td>\n",
       "      <td>0</td>\n",
       "    </tr>\n",
       "  </tbody>\n",
       "</table>\n",
       "<p>5 rows × 321 columns</p>\n",
       "</div>"
      ],
      "text/plain": [
       "   t0_geoip_metro_code_others_level  t0_geoip_metro_code_MC_501  \\\n",
       "1                                 0                           0   \n",
       "2                                 0                           0   \n",
       "3                                 0                           0   \n",
       "4                                 0                           0   \n",
       "5                                 1                           0   \n",
       "\n",
       "   t0_geoip_metro_code_MC_504  t0_geoip_metro_code_MC_506  \\\n",
       "1                           0                           0   \n",
       "2                           0                           0   \n",
       "3                           0                           0   \n",
       "4                           0                           0   \n",
       "5                           0                           0   \n",
       "\n",
       "   t0_geoip_metro_code_MC_511  t0_geoip_metro_code_MC_524  \\\n",
       "1                           0                           0   \n",
       "2                           0                           0   \n",
       "3                           0                           0   \n",
       "4                           0                           0   \n",
       "5                           0                           0   \n",
       "\n",
       "   t0_geoip_metro_code_MC_602  t0_geoip_metro_code_MC_618  \\\n",
       "1                           0                           0   \n",
       "2                           0                           1   \n",
       "3                           0                           0   \n",
       "4                           1                           0   \n",
       "5                           0                           0   \n",
       "\n",
       "   t0_geoip_metro_code_MC_623  t0_geoip_metro_code_MC_803  \\\n",
       "1                           0                           0   \n",
       "2                           0                           0   \n",
       "3                           0                           0   \n",
       "4                           0                           0   \n",
       "5                           0                           0   \n",
       "\n",
       "             ...             median_hh_inc_NA  mean_hh_inc_NA  \\\n",
       "1            ...                            1               1   \n",
       "2            ...                            0               0   \n",
       "3            ...                            1               1   \n",
       "4            ...                            0               0   \n",
       "5            ...                            0               0   \n",
       "\n",
       "   owner_occupied_hh_NA  pct_native_born_NA  pct_white_NA  \\\n",
       "1                     1                   1             1   \n",
       "2                     0                   0             0   \n",
       "3                     1                   1             1   \n",
       "4                     0                   0             0   \n",
       "5                     0                   0             0   \n",
       "\n",
       "   pct_men_in_labor_force_NA  pct_women_in_labor_force_NA  pct_25_up_NA  \\\n",
       "1                          1                            1             1   \n",
       "2                          0                            0             0   \n",
       "3                          1                            1             1   \n",
       "4                          0                            0             0   \n",
       "5                          0                            0             0   \n",
       "\n",
       "   ppl_per_hh_NA  pct_owner_occupied_hh_NA  \n",
       "1              1                         1  \n",
       "2              0                         0  \n",
       "3              1                         1  \n",
       "4              0                         0  \n",
       "5              0                         0  \n",
       "\n",
       "[5 rows x 321 columns]"
      ]
     },
     "execution_count": 3,
     "metadata": {},
     "output_type": "execute_result"
    }
   ],
   "source": [
    "df.head()"
   ]
  },
  {
   "cell_type": "markdown",
   "metadata": {},
   "source": [
    "### Undersampling the Non-spenders to 200000"
   ]
  },
  {
   "cell_type": "code",
   "execution_count": 16,
   "metadata": {},
   "outputs": [
    {
     "data": {
      "image/png": "[encoded data removed]",
      "text/plain": [
       "<matplotlib.figure.Figure at 0x7f8a48c86080>"
      ]
     },
     "metadata": {},
     "output_type": "display_data"
    }
   ],
   "source": [
    "nonspenders = df[df.out_ltv==0]\n",
    "\n",
    "nonspender_sampleDF = nonspenders.sample(n=200000, random_state=40)\n",
    "\n",
    "spenderDF = df[df.out_ltv>0]\n",
    "\n",
    "new_df = pd.concat([nonspender_sampleDF, spenderDF])\n",
    "\n",
    "# Plot the LTV distribution for spenders only\n",
    "new_df['out_ltv'][new_df['out_ltv']>0].hist();"
   ]
  },
  {
   "cell_type": "code",
   "execution_count": 51,
   "metadata": {
    "collapsed": true
   },
   "outputs": [],
   "source": [
    "X = np.array(new_df.drop(['out_ltv'], axis=1))\n",
    "y = np.array(new_df['out_ltv'])\n",
    "# y = y.values.reshape((y.shape[0],1))\n",
    "\n",
    "seed=7\n",
    "np.random.seed(seed)\n",
    "\n",
    "# split data into training set and testing set\n",
    "X_train, X_test, y_train, y_test = train_test_split(X, y, test_size=0.2, random_state=42)\n",
    "\n",
    "# Normalize the training\n",
    "norm_train, norm = normalize(X_train, axis=0, return_norm=True)\n",
    "norm_test = X_test/norm"
   ]
  },
  {
   "cell_type": "code",
   "execution_count": 11,
   "metadata": {
    "collapsed": true
   },
   "outputs": [],
   "source": [
    "# np.save('Data/norm_train.npy', norm_train)\n",
    "# np.save('Data/norm_test.npy', norm_test)\n",
    "# np.save('Data/y_train.npy', y_train)\n",
    "# np.save('Data/y_test.npy', y_test)"
   ]
  },
  {
   "cell_type": "markdown",
   "metadata": {},
   "source": [
    "### Balance the data - by oversampling with replacement"
   ]
  },
  {
   "cell_type": "code",
   "execution_count": 54,
   "metadata": {
    "collapsed": true
   },
   "outputs": [],
   "source": [
    "train_label = y_train>0\n",
    "train_label = train_label.astype(np.bool)\n",
    "test_label = y_test>0\n",
    "test_label = test_label.astype(np.bool)"
   ]
  },
  {
   "cell_type": "code",
   "execution_count": 55,
   "metadata": {
    "collapsed": true
   },
   "outputs": [],
   "source": [
    "seed=7\n",
    "np.random.seed(seed)\n",
    "\n",
    "# randomly select as many buyers as non_buyers from training data\n",
    "sample_index = np.random.choice(len(norm_train[train_label]), size=160014)\n",
    "oversampled_norm_train = np.concatenate((norm_train[train_label][sample_index], norm_train[y_train==0]), axis=0)\n",
    "oversampled_y_train = np.concatenate((y_train[train_label][sample_index], y_train[y_train==0]), axis=0)\n",
    "\n",
    "# update training label\n",
    "train_label = oversampled_y_train>0\n",
    "train_label = train_label.astype(np.bool)"
   ]
  },
  {
   "cell_type": "code",
   "execution_count": 58,
   "metadata": {},
   "outputs": [
    {
     "name": "stdout",
     "output_type": "stream",
     "text": [
      "Counter({True: 160014, False: 160014})\n"
     ]
    },
    {
     "data": {
      "image/png": "[encoded data removed]",
      "text/plain": [
       "<matplotlib.figure.Figure at 0x7f8a48c86390>"
      ]
     },
     "metadata": {},
     "output_type": "display_data"
    }
   ],
   "source": [
    "print(Counter(train_label))\n",
    "sns.countplot(train_label);"
   ]
  },
  {
   "cell_type": "code",
   "execution_count": 59,
   "metadata": {
    "collapsed": true
   },
   "outputs": [],
   "source": [
    "# np.save('Data/oversampled_X_train', oversampled_norm_train)\n",
    "# np.save('Data/overssampled_y_train', oversampled_y_train)"
   ]
  },
  {
   "cell_type": "markdown",
   "metadata": {},
   "source": [
    "### Combining undersampling and oversampling using SMOTE"
   ]
  },
  {
   "cell_type": "markdown",
   "metadata": {},
   "source": [
    "#### Before smoting, feature selection needs to be done. Here we use Autoencoder."
   ]
  },
  {
   "cell_type": "code",
   "execution_count": 61,
   "metadata": {},
   "outputs": [
    {
     "name": "stdout",
     "output_type": "stream",
     "text": [
      "Train on 135251 samples, validate on 33813 samples\n",
      "Epoch 1/50\n",
      "135251/135251 [==============================] - 3s - loss: 3.9387e-06 - rmse_: 0.0020 - val_loss: 3.5722e-06 - val_rmse_: 0.0019\n",
      "Epoch 2/50\n",
      "135251/135251 [==============================] - 3s - loss: 3.3609e-06 - rmse_: 0.0018 - val_loss: 3.3659e-06 - val_rmse_: 0.0018\n",
      "Epoch 3/50\n",
      "135251/135251 [==============================] - 3s - loss: 3.2059e-06 - rmse_: 0.0018 - val_loss: 3.1390e-06 - val_rmse_: 0.0018\n",
      "Epoch 4/50\n",
      "135251/135251 [==============================] - 3s - loss: 2.8532e-06 - rmse_: 0.0017 - val_loss: 2.7584e-06 - val_rmse_: 0.0017\n",
      "Epoch 5/50\n",
      "135251/135251 [==============================] - 3s - loss: 2.6143e-06 - rmse_: 0.0016 - val_loss: 2.5891e-06 - val_rmse_: 0.0016\n",
      "Epoch 6/50\n",
      "135251/135251 [==============================] - 3s - loss: 2.4835e-06 - rmse_: 0.0016 - val_loss: 2.4746e-06 - val_rmse_: 0.0016\n",
      "Epoch 7/50\n",
      "135251/135251 [==============================] - 3s - loss: 2.3928e-06 - rmse_: 0.0015 - val_loss: 2.4084e-06 - val_rmse_: 0.0015\n",
      "Epoch 8/50\n",
      "135251/135251 [==============================] - 3s - loss: 2.3414e-06 - rmse_: 0.0015 - val_loss: 2.3818e-06 - val_rmse_: 0.0015\n",
      "Epoch 9/50\n",
      "135251/135251 [==============================] - 3s - loss: 2.3336e-06 - rmse_: 0.0015 - val_loss: 2.3764e-06 - val_rmse_: 0.0015\n",
      "Epoch 10/50\n",
      "135251/135251 [==============================] - 3s - loss: 2.3274e-06 - rmse_: 0.0015 - val_loss: 2.3691e-06 - val_rmse_: 0.0015\n",
      "Epoch 11/50\n",
      "135251/135251 [==============================] - 3s - loss: 2.3220e-06 - rmse_: 0.0015 - val_loss: 2.3652e-06 - val_rmse_: 0.0015\n",
      "Epoch 12/50\n",
      "135251/135251 [==============================] - 3s - loss: 2.3169e-06 - rmse_: 0.0015 - val_loss: 2.3594e-06 - val_rmse_: 0.0015\n",
      "Epoch 13/50\n",
      "135251/135251 [==============================] - 3s - loss: 2.3092e-06 - rmse_: 0.0015 - val_loss: 2.3547e-06 - val_rmse_: 0.0015\n",
      "Epoch 14/50\n",
      "135251/135251 [==============================] - 3s - loss: 2.3083e-06 - rmse_: 0.0015 - val_loss: 2.3540e-06 - val_rmse_: 0.0015\n",
      "Epoch 15/50\n",
      "135251/135251 [==============================] - 3s - loss: 2.3075e-06 - rmse_: 0.0015 - val_loss: 2.3529e-06 - val_rmse_: 0.0015\n",
      "Epoch 16/50\n",
      "135251/135251 [==============================] - 3s - loss: 2.3066e-06 - rmse_: 0.0015 - val_loss: 2.3521e-06 - val_rmse_: 0.0015\n",
      "Epoch 17/50\n",
      "135251/135251 [==============================] - 3s - loss: 2.3057e-06 - rmse_: 0.0015 - val_loss: 2.3515e-06 - val_rmse_: 0.0015\n",
      "Epoch 18/50\n",
      "135251/135251 [==============================] - 3s - loss: 2.3041e-06 - rmse_: 0.0015 - val_loss: 2.3502e-06 - val_rmse_: 0.0015\n",
      "Epoch 19/50\n",
      "135251/135251 [==============================] - 3s - loss: 2.3039e-06 - rmse_: 0.0015 - val_loss: 2.3500e-06 - val_rmse_: 0.0015\n",
      "Epoch 20/50\n",
      "135251/135251 [==============================] - 3s - loss: 2.3038e-06 - rmse_: 0.0015 - val_loss: 2.3499e-06 - val_rmse_: 0.0015\n",
      "Epoch 21/50\n",
      "135251/135251 [==============================] - 3s - loss: 2.3036e-06 - rmse_: 0.0015 - val_loss: 2.3497e-06 - val_rmse_: 0.0015\n",
      "Epoch 22/50\n",
      "135251/135251 [==============================] - 3s - loss: 2.3034e-06 - rmse_: 0.0015 - val_loss: 2.3495e-06 - val_rmse_: 0.0015\n",
      "Epoch 23/50\n",
      "135251/135251 [==============================] - 3s - loss: 2.3031e-06 - rmse_: 0.0015 - val_loss: 2.3492e-06 - val_rmse_: 0.0015\n",
      "Epoch 24/50\n",
      "135251/135251 [==============================] - 3s - loss: 2.3030e-06 - rmse_: 0.0015 - val_loss: 2.3492e-06 - val_rmse_: 0.0015\n",
      "Epoch 25/50\n",
      "135251/135251 [==============================] - 3s - loss: 2.3030e-06 - rmse_: 0.0015 - val_loss: 2.3492e-06 - val_rmse_: 0.0015\n",
      "Epoch 26/50\n",
      "135251/135251 [==============================] - 3s - loss: 2.3029e-06 - rmse_: 0.0015 - val_loss: 2.3491e-06 - val_rmse_: 0.0015\n",
      "Epoch 27/50\n",
      "135251/135251 [==============================] - 3s - loss: 2.3029e-06 - rmse_: 0.0015 - val_loss: 2.3491e-06 - val_rmse_: 0.0015\n",
      "Epoch 28/50\n",
      "135251/135251 [==============================] - 3s - loss: 2.3028e-06 - rmse_: 0.0015 - val_loss: 2.3491e-06 - val_rmse_: 0.0015\n",
      "Epoch 29/50\n",
      "135251/135251 [==============================] - 3s - loss: 2.3028e-06 - rmse_: 0.0015 - val_loss: 2.3491e-06 - val_rmse_: 0.0015\n",
      "Epoch 30/50\n",
      "135251/135251 [==============================] - 3s - loss: 2.3028e-06 - rmse_: 0.0015 - val_loss: 2.3490e-06 - val_rmse_: 0.0015\n",
      "Epoch 31/50\n",
      "135251/135251 [==============================] - 3s - loss: 2.3028e-06 - rmse_: 0.0015 - val_loss: 2.3490e-06 - val_rmse_: 0.0015\n",
      "Epoch 32/50\n",
      "135251/135251 [==============================] - 3s - loss: 2.3028e-06 - rmse_: 0.0015 - val_loss: 2.3490e-06 - val_rmse_: 0.0015\n",
      "Epoch 33/50\n",
      "135251/135251 [==============================] - 3s - loss: 2.3028e-06 - rmse_: 0.0015 - val_loss: 2.3490e-06 - val_rmse_: 0.0015\n",
      "Epoch 34/50\n",
      "135251/135251 [==============================] - 3s - loss: 2.3028e-06 - rmse_: 0.0015 - val_loss: 2.3490e-06 - val_rmse_: 0.0015\n",
      "Epoch 35/50\n",
      "135251/135251 [==============================] - 3s - loss: 2.3028e-06 - rmse_: 0.0015 - val_loss: 2.3490e-06 - val_rmse_: 0.0015\n",
      "Epoch 36/50\n",
      "135251/135251 [==============================] - 3s - loss: 2.3028e-06 - rmse_: 0.0015 - val_loss: 2.3490e-06 - val_rmse_: 0.0015\n",
      "Epoch 37/50\n",
      "135251/135251 [==============================] - 3s - loss: 2.3028e-06 - rmse_: 0.0015 - val_loss: 2.3490e-06 - val_rmse_: 0.0015\n",
      "Epoch 38/50\n",
      "135251/135251 [==============================] - 3s - loss: 2.3028e-06 - rmse_: 0.0015 - val_loss: 2.3490e-06 - val_rmse_: 0.0015\n",
      "Epoch 39/50\n",
      "135251/135251 [==============================] - 3s - loss: 2.3028e-06 - rmse_: 0.0015 - val_loss: 2.3490e-06 - val_rmse_: 0.0015\n",
      "Epoch 40/50\n",
      "135251/135251 [==============================] - 3s - loss: 2.3028e-06 - rmse_: 0.0015 - val_loss: 2.3490e-06 - val_rmse_: 0.0015\n",
      "Epoch 41/50\n",
      "135251/135251 [==============================] - 3s - loss: 2.3028e-06 - rmse_: 0.0015 - val_loss: 2.3490e-06 - val_rmse_: 0.0015\n",
      "Epoch 42/50\n",
      "135251/135251 [==============================] - 3s - loss: 2.3028e-06 - rmse_: 0.0015 - val_loss: 2.3490e-06 - val_rmse_: 0.0015\n",
      "Epoch 43/50\n",
      "135251/135251 [==============================] - 3s - loss: 2.3028e-06 - rmse_: 0.0015 - val_loss: 2.3490e-06 - val_rmse_: 0.0015\n",
      "Epoch 44/50\n",
      "135251/135251 [==============================] - 3s - loss: 2.3028e-06 - rmse_: 0.0015 - val_loss: 2.3490e-06 - val_rmse_: 0.0015\n",
      "Epoch 45/50\n",
      "135251/135251 [==============================] - 3s - loss: 2.3028e-06 - rmse_: 0.0015 - val_loss: 2.3490e-06 - val_rmse_: 0.0015\n",
      "Epoch 46/50\n",
      "135251/135251 [==============================] - 3s - loss: 2.3028e-06 - rmse_: 0.0015 - val_loss: 2.3490e-06 - val_rmse_: 0.0015\n",
      "Epoch 47/50\n",
      "135251/135251 [==============================] - 3s - loss: 2.3028e-06 - rmse_: 0.0015 - val_loss: 2.3490e-06 - val_rmse_: 0.0015\n",
      "Epoch 48/50\n",
      "135251/135251 [==============================] - 3s - loss: 2.3028e-06 - rmse_: 0.0015 - val_loss: 2.3490e-06 - val_rmse_: 0.0015\n",
      "Epoch 49/50\n",
      "135251/135251 [==============================] - 3s - loss: 2.3028e-06 - rmse_: 0.0015 - val_loss: 2.3490e-06 - val_rmse_: 0.0015\n",
      "Epoch 50/50\n",
      "135251/135251 [==============================] - 3s - loss: 2.3028e-06 - rmse_: 0.0015 - val_loss: 2.3490e-06 - val_rmse_: 0.0015\n"
     ]
    },
    {
     "data": {
      "text/plain": [
       "<keras.callbacks.History at 0x7f8aacd2b6d8>"
      ]
     },
     "execution_count": 61,
     "metadata": {},
     "output_type": "execute_result"
    }
   ],
   "source": [
    "def rmse_(y_true, y_pred):\n",
    "    return (K.mean((((y_pred-y_true))**2)))**(1/2)\n",
    "\n",
    "# Build a FNN model with 2 hidden layers that maps input data to itself\n",
    "input_data = Input(shape=(norm_train.shape[1],))\n",
    "encode = Dense(128, activation='relu')(input_data)\n",
    "encode2 = Dense(50, activation='relu')(encode)\n",
    "decode = Dense(norm_train.shape[1])(encode2)\n",
    "\n",
    "# This model uses all the layers. We will later use this model to evaluate\n",
    "decode_model = Model(input_data, decode)\n",
    "\n",
    "# This model uses the 2nd Dense layer to map from Dimension of input to Dimension of 50\n",
    "encode_model = Model(input_data, encode2)\n",
    "\n",
    "loss='mean_squared_error'\n",
    "optimizer=Adam(lr=0.001)\n",
    "metric=[rmse_]\n",
    "\n",
    "decode_model.compile(loss=loss, \n",
    "              optimizer=optimizer, \n",
    "              metrics=metric)\n",
    "\n",
    "reduce_lr = ReduceLROnPlateau(monitor='val_loss', \n",
    "                  factor=0.2, \n",
    "                  patience=5,   \n",
    "                  epsilon=0.0001,  \n",
    "                  min_lr=0)\n",
    "\n",
    "modelchecker = ModelCheckpoint('autoencoder.h5', save_best_only=True)\n",
    "\n",
    "earlystopper = EarlyStopping(patience=12, mode='min', verbose=1)\n",
    "\n",
    "decode_model.fit(norm_train, \n",
    "              norm_train,\n",
    "              batch_size=300, \n",
    "              epochs=50, \n",
    "              validation_split=0.2, \n",
    "              verbose=1, \n",
    "              callbacks=[reduce_lr, earlystopper, modelchecker])"
   ]
  },
  {
   "cell_type": "code",
   "execution_count": 62,
   "metadata": {},
   "outputs": [
    {
     "name": "stdout",
     "output_type": "stream",
     "text": [
      "42208/42266 [============================>.] - ETA: 0s"
     ]
    },
    {
     "data": {
      "text/plain": [
       "[2.2881733567348365e-06, 0.0015084358026221415]"
      ]
     },
     "execution_count": 62,
     "metadata": {},
     "output_type": "execute_result"
    }
   ],
   "source": [
    "# dimension reduction for training set\n",
    "reduced_data_train = encode_model.predict(norm_train)\n",
    "\n",
    "# dimension reduction for testing set\n",
    "reduced_data_test = encode_model.predict(norm_test)\n",
    "\n",
    "# Evaluate our model by projecting test data to itself\n",
    "decode_model.evaluate(norm_test, norm_test)"
   ]
  },
  {
   "cell_type": "code",
   "execution_count": 67,
   "metadata": {
    "collapsed": true
   },
   "outputs": [],
   "source": [
    "# np.save('Data/autoencoded_data_train.npy', reduced_data_train)\n",
    "# np.save('Data/autoencoded_data_test.npy', reduced_data_test)"
   ]
  },
  {
   "cell_type": "markdown",
   "metadata": {},
   "source": [
    "### now we can smote"
   ]
  },
  {
   "cell_type": "code",
   "execution_count": 65,
   "metadata": {},
   "outputs": [
    {
     "name": "stdout",
     "output_type": "stream",
     "text": [
      "Counter({0.0: 26636, 1.0: 1542})\n",
      "Counter({0.0: 26655, 1.0: 1523})\n",
      "Counter({0.0: 26697, 1.0: 1480})\n",
      "Counter({0.0: 26651, 1.0: 1526})\n",
      "Counter({0.0: 26690, 1.0: 1487})\n",
      "Counter({0.0: 26685, 1.0: 1492})\n"
     ]
    }
   ],
   "source": [
    "# Create new label that indicates spenders as True, non-spenders as False\n",
    "label = y_train >0\n",
    "\n",
    "side = np.hstack((reduced_data_train, y_train.reshape((y_train.shape[0],1))))\n",
    "train = np.hstack((side, label.reshape((label.shape[0],1))))\n",
    "\n",
    "# split the entire training set to 6 small subsets to avoid out of memory error\n",
    "split_list = np.array_split(train, 6)\n",
    "\n",
    "for array in split_list:\n",
    "    print(Counter(array[:,-1]))"
   ]
  },
  {
   "cell_type": "markdown",
   "metadata": {},
   "source": [
    "#### Smote can generate noisy data by interpolating new points between marginal outliers and inliers. This issue can be solved by cleaning the resulted space obtained after over-sampling. We choose Edited nearest-neighbours because it clears more noisy data than SmoteTomek"
   ]
  },
  {
   "cell_type": "code",
   "execution_count": 66,
   "metadata": {
    "collapsed": true
   },
   "outputs": [],
   "source": [
    "# make functions that will smote the data for us\n",
    "def resample(X, y):\n",
    "    sm = SMOTEENN()\n",
    "    X_resampled, y_resampled = sm.fit_sample(X, y)\n",
    "    return X_resampled, y_resampled\n",
    "\n",
    "def resample_the_list(list_array):\n",
    "    list_X_resampled = []\n",
    "    list_y_resampled = []\n",
    "    for array in list_array:\n",
    "        X_resampled, y_resampled, = resample(array[:,:-1], array[:, -1].astype(np.bool))\n",
    "        list_X_resampled.append(X_resampled)\n",
    "        list_y_resampled.append(y_resampled)\n",
    "    return list_X_resampled, list_y_resampled"
   ]
  },
  {
   "cell_type": "code",
   "execution_count": null,
   "metadata": {
    "collapsed": true
   },
   "outputs": [],
   "source": [
    "list_X_resampled, list_y_resampled = resample_the_list(split_list)"
   ]
  },
  {
   "cell_type": "code",
   "execution_count": null,
   "metadata": {
    "collapsed": true
   },
   "outputs": [],
   "source": [
    "# we will only save the X_resampled because y_resampled can be easily created by passing a booling function\n",
    "final_train = np.concatenate(list_X_resampled, axis=0)\n",
    "# np.save('Data/smoted_train_X_and_y.npy', final_train)"
   ]
  }
 ],
 "metadata": {
  "kernelspec": {
   "display_name": "Python 3",
   "language": "python",
   "name": "python3"
  },
  "language_info": {
   "codemirror_mode": {
    "name": "ipython",
    "version": 3
   },
   "file_extension": ".py",
   "mimetype": "text/x-python",
   "name": "python",
   "nbconvert_exporter": "python",
   "pygments_lexer": "ipython3",
   "version": "3.6.2"
  }
 },
 "nbformat": 4,
 "nbformat_minor": 2
}
